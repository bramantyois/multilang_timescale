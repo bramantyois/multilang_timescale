{
 "cells": [
  {
   "cell_type": "code",
   "execution_count": 1,
   "metadata": {},
   "outputs": [
    {
     "name": "stdout",
     "output_type": "stream",
     "text": [
      "/mnt/antares_raid/home/bramantyos/codes/multilang_timescale\n"
     ]
    }
   ],
   "source": [
    "import os\n",
    "\n",
    "# move to project root\n",
    "while True:\n",
    "    # get list of directories\n",
    "    dirs = os.listdir()\n",
    "    if \"README.md\" in dirs:\n",
    "        break\n",
    "    else:\n",
    "        os.chdir(\"..\")\n",
    "print(os.getcwd())"
   ]
  },
  {
   "cell_type": "code",
   "execution_count": 2,
   "metadata": {},
   "outputs": [],
   "source": [
    "en_word_path = \".temp/misc/word_list/en_words.txt\"\n",
    "zh_word_path = \".temp/misc/word_list/zh_words.txt\""
   ]
  },
  {
   "cell_type": "code",
   "execution_count": 3,
   "metadata": {},
   "outputs": [],
   "source": [
    "# open to list\n",
    "with open(en_word_path, \"r\") as f:\n",
    "    en_words = f.read().splitlines()\n",
    "with open(zh_word_path, \"r\") as f:\n",
    "    zh_words = f.read().splitlines()"
   ]
  },
  {
   "cell_type": "code",
   "execution_count": 4,
   "metadata": {},
   "outputs": [
    {
     "data": {
      "text/plain": [
       "['cheap',\n",
       " 'shows',\n",
       " 'sta',\n",
       " 'chore',\n",
       " 'control',\n",
       " \"couldn't\",\n",
       " 'car',\n",
       " 'jt',\n",
       " 'acknowledged',\n",
       " 'thrive']"
      ]
     },
     "execution_count": 4,
     "metadata": {},
     "output_type": "execute_result"
    }
   ],
   "source": [
    "en_words[:10]"
   ]
  },
  {
   "cell_type": "code",
   "execution_count": 5,
   "metadata": {},
   "outputs": [
    {
     "data": {
      "text/plain": [
       "['大桥，', '谈话', '无法', '建筑', '问题、', '时尚', '尽管', '营地，', '情深意切', '加入']"
      ]
     },
     "execution_count": 5,
     "metadata": {},
     "output_type": "execute_result"
    }
   ],
   "source": [
    "zh_words[:10]"
   ]
  },
  {
   "cell_type": "code",
   "execution_count": 6,
   "metadata": {},
   "outputs": [],
   "source": [
    "from src.utils import load_fasttext_aligned_vectors"
   ]
  },
  {
   "cell_type": "code",
   "execution_count": 7,
   "metadata": {},
   "outputs": [],
   "source": [
    "en_fasttext = \"/mnt/raid/bling/word_vectors/dir_local/wiki.en.align.vec\"\n",
    "zh_fasttext = \"/mnt/raid/bling/word_vectors/dir_local/wiki.zh.align.vec\"\n",
    "\n",
    "en_fasttext = load_fasttext_aligned_vectors(en_fasttext)\n",
    "zh_fasttext = load_fasttext_aligned_vectors(zh_fasttext)"
   ]
  },
  {
   "cell_type": "code",
   "execution_count": 8,
   "metadata": {},
   "outputs": [],
   "source": [
    "def get_word_vector(word, lang):\n",
    "    try:\n",
    "        if lang == \"en\":\n",
    "            return en_fasttext[word]\n",
    "        elif lang == \"zh\":\n",
    "            return zh_fasttext[word]\n",
    "    except KeyError:\n",
    "        return None"
   ]
  },
  {
   "cell_type": "code",
   "execution_count": 9,
   "metadata": {},
   "outputs": [],
   "source": [
    "en_embeddings = {word: get_word_vector(word, \"en\") for word in en_words}\n",
    "zh_embeddings = {word: get_word_vector(word, \"zh\") for word in zh_words}"
   ]
  },
  {
   "cell_type": "code",
   "execution_count": 10,
   "metadata": {},
   "outputs": [],
   "source": [
    "# remove keys with None values\n",
    "en_embeddings = {k: v for k, v in en_embeddings.items() if v is not None}\n",
    "zh_embeddings = {k: v for k, v in zh_embeddings.items() if v is not None}"
   ]
  },
  {
   "cell_type": "code",
   "execution_count": 11,
   "metadata": {},
   "outputs": [],
   "source": [
    "import numpy as np"
   ]
  },
  {
   "cell_type": "code",
   "execution_count": 12,
   "metadata": {},
   "outputs": [],
   "source": [
    "# save embeddings\n",
    "np.save(\".temp/misc/word_list/en_fasttext_embeddings.npy\", en_embeddings)\n",
    "np.save(\".temp/misc/word_list/zh_fasttext_embeddings.npy\", zh_embeddings)"
   ]
  },
  {
   "cell_type": "code",
   "execution_count": null,
   "metadata": {},
   "outputs": [],
   "source": []
  }
 ],
 "metadata": {
  "kernelspec": {
   "display_name": "vem",
   "language": "python",
   "name": "python3"
  },
  "language_info": {
   "codemirror_mode": {
    "name": "ipython",
    "version": 3
   },
   "file_extension": ".py",
   "mimetype": "text/x-python",
   "name": "python",
   "nbconvert_exporter": "python",
   "pygments_lexer": "ipython3",
   "version": "3.10.13"
  }
 },
 "nbformat": 4,
 "nbformat_minor": 2
}
