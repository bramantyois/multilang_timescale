{
 "cells": [
  {
   "cell_type": "code",
   "execution_count": 1,
   "metadata": {},
   "outputs": [],
   "source": [
    "import os"
   ]
  },
  {
   "cell_type": "code",
   "execution_count": 2,
   "metadata": {},
   "outputs": [
    {
     "name": "stdout",
     "output_type": "stream",
     "text": [
      "/mnt/antares_raid/home/bramantyos/codes/multilang_timescale\n"
     ]
    }
   ],
   "source": [
    "# move to project root\n",
    "while True:\n",
    "    # get list of directories\n",
    "    dirs = os.listdir()\n",
    "    if \"README.md\" in dirs:\n",
    "        break\n",
    "    else:\n",
    "        os.chdir(\"..\")\n",
    "print(os.getcwd())"
   ]
  },
  {
   "cell_type": "code",
   "execution_count": 4,
   "metadata": {},
   "outputs": [],
   "source": [
    "import numpy as np\n"
   ]
  },
  {
   "cell_type": "code",
   "execution_count": 16,
   "metadata": {},
   "outputs": [],
   "source": [
    "feature_dir = \"/mnt/raid/bling/data/features/bling_reading\"\n",
    "\n",
    "col_en_feature = \"Baseline_bling_reading_en_COL_fTRS-numwords-numletters-moten.npz\"\n",
    "col_zh_feature = \"Baseline_bling_reading_zh_COL_fTRS-numwords-numletters-moten.npz\"\n",
    "\n",
    "tye_en_feature = \"Baseline_bling_reading_en_TYE_fTRS-numwords-numletters-moten.npz\"\n",
    "tye_zh_feature = \"Baseline_bling_reading_zh_TYE_fTRS-numletters-moten.npz\"\n",
    "\n",
    "gfw_en_feature = \"Baseline_bling_reading_en_GFW_fTRS-numwords-numletters-moten.npz\"\n",
    "gfw_zh_feature = \"Baseline_bling_reading_zh_GFW_fTRS-numwords-numletters-moten.npz\""
   ]
  },
  {
   "cell_type": "code",
   "execution_count": 36,
   "metadata": {},
   "outputs": [],
   "source": [
    "#\n",
    "col_en = np.load(os.path.join(feature_dir, col_en_feature), allow_pickle=True)\n",
    "col_en_fasttext_train = col_en['train_features'].tolist()['fastText_en_RCSLS_TUB']\n",
    "col_en_fasttext_test = col_en['test_features'].tolist()['fastText_en_RCSLS_TUB']\n",
    "\n",
    "col_zh = np.load(os.path.join(feature_dir, col_zh_feature), allow_pickle=True)\n",
    "col_zh_fasttext_train = col_zh['train_features'].tolist()['fastText_zh_RCSLS_TUB']\n",
    "col_zh_fasttext_test = col_zh['test_features'].tolist()['fastText_zh_RCSLS_TUB']"
   ]
  },
  {
   "cell_type": "code",
   "execution_count": 37,
   "metadata": {},
   "outputs": [],
   "source": [
    "# \n",
    "tye_en = np.load(os.path.join(feature_dir, tye_en_feature), allow_pickle=True)\n",
    "tye_en_fasttext_train = tye_en['train_features'].tolist()['fastText_en_RCSLS_TUB']\n",
    "tye_en_fasttext_test = tye_en['test_features'].tolist()['fastText_en_RCSLS_TUB']\n",
    "\n",
    "tye_zh = np.load(os.path.join(feature_dir, tye_zh_feature), allow_pickle=True)\n",
    "tye_zh_fasttext_train = tye_zh['train_features'].tolist()['fastText_zh_RCSLS_TUB']\n",
    "tye_zh_fasttext_test = tye_zh['test_features'].tolist()['fastText_zh_RCSLS_TUB']"
   ]
  },
  {
   "cell_type": "code",
   "execution_count": 38,
   "metadata": {},
   "outputs": [],
   "source": [
    "# \n",
    "gfw_en = np.load(os.path.join(feature_dir, gfw_en_feature), allow_pickle=True)\n",
    "gfw_en_fasttext_train = gfw_en['train_features'].tolist()['fastText_en_RCSLS_TUB']\n",
    "gfw_en_fasttext_test = gfw_en['test_features'].tolist()['fastText_en_RCSLS_TUB']\n",
    "\n",
    "gfw_zh = np.load(os.path.join(feature_dir, gfw_zh_feature), allow_pickle=True)\n",
    "gfw_zh_fasttext_train = gfw_zh['train_features'].tolist()['fastText_zh_RCSLS_TUB']\n",
    "gfw_zh_fasttext_test = gfw_zh['test_features'].tolist()['fastText_zh_RCSLS_TUB']\n"
   ]
  },
  {
   "cell_type": "code",
   "execution_count": 30,
   "metadata": {},
   "outputs": [],
   "source": [
    "# saving \n",
    "save_dir = '.temp/feature/fasttext'\n",
    "\n",
    "if not os.path.exists(save_dir):\n",
    "    os.makedirs(save_dir)"
   ]
  },
  {
   "cell_type": "code",
   "execution_count": 39,
   "metadata": {},
   "outputs": [],
   "source": [
    "np.savez_compressed(os.path.join(save_dir, 'col_en_fasttext.npz'), train=col_en_fasttext_train, test=col_en_fasttext_test)\n",
    "np.savez_compressed(os.path.join(save_dir, 'col_zh_fasttext.npz'), train=col_zh_fasttext_train, test=col_zh_fasttext_test)\n",
    "\n",
    "np.savez_compressed(os.path.join(save_dir, 'tye_en_fasttext.npz'), train=tye_en_fasttext_train, test=tye_en_fasttext_test)\n",
    "np.savez_compressed(os.path.join(save_dir, 'tye_zh_fasttext.npz'), train=tye_zh_fasttext_train, test=tye_zh_fasttext_test)\n",
    "\n",
    "np.savez_compressed(os.path.join(save_dir, 'gfw_en_fasttext.npz'), train=gfw_en_fasttext_train, test=gfw_en_fasttext_test)\n",
    "np.savez_compressed(os.path.join(save_dir, 'gfw_zh_fasttext.npz'), train=gfw_zh_fasttext_train, test=gfw_zh_fasttext_test)"
   ]
  },
  {
   "cell_type": "code",
   "execution_count": 55,
   "metadata": {},
   "outputs": [],
   "source": [
    "# reload \n",
    "col_en_fasttext = np.load(os.path.join(save_dir, 'gfw_zh_fasttext.npz'), allow_pickle=True)['test']"
   ]
  },
  {
   "cell_type": "code",
   "execution_count": 56,
   "metadata": {},
   "outputs": [
    {
     "data": {
      "text/plain": [
       "(1, 291, 300)"
      ]
     },
     "execution_count": 56,
     "metadata": {},
     "output_type": "execute_result"
    }
   ],
   "source": [
    "col_en_fasttext.shape"
   ]
  },
  {
   "cell_type": "code",
   "execution_count": null,
   "metadata": {},
   "outputs": [],
   "source": []
  }
 ],
 "metadata": {
  "kernelspec": {
   "display_name": "vem",
   "language": "python",
   "name": "python3"
  },
  "language_info": {
   "codemirror_mode": {
    "name": "ipython",
    "version": 3
   },
   "file_extension": ".py",
   "mimetype": "text/x-python",
   "name": "python",
   "nbconvert_exporter": "python",
   "pygments_lexer": "ipython3",
   "version": "3.10.13"
  }
 },
 "nbformat": 4,
 "nbformat_minor": 2
}
