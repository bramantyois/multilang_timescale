{
 "cells": [
  {
   "cell_type": "code",
   "execution_count": 1,
   "metadata": {},
   "outputs": [
    {
     "name": "stdout",
     "output_type": "stream",
     "text": [
      "/home/ra/Codes/multilang_timescale\n"
     ]
    }
   ],
   "source": [
    "import os\n",
    "\n",
    "# move to project root\n",
    "while True:\n",
    "    # get list of directories\n",
    "    dirs = os.listdir()\n",
    "    if \"README.md\" in dirs:\n",
    "        break\n",
    "    else:\n",
    "        os.chdir(\"..\")\n",
    "print(os.getcwd())"
   ]
  },
  {
   "cell_type": "code",
   "execution_count": 2,
   "metadata": {},
   "outputs": [],
   "source": [
    "import pickle\n",
    "import json\n",
    "\n",
    "import time\n",
    "import logging\n",
    "\n",
    "import warnings\n",
    "\n",
    "import joblib\n",
    "\n",
    "import numpy as np\n",
    "import pandas as pd\n",
    "\n",
    "from scipy.stats import zscore\n",
    "\n",
    "# from himalaya.ridge import RidgeCV, Ridge\n",
    "\n",
    "from himalaya.backend import set_backend\n",
    "from himalaya.kernel_ridge import (\n",
    "    Kernelizer,\n",
    "    ColumnKernelizer,\n",
    "    MultipleKernelRidgeCV,\n",
    "    WeightedKernelRidge,\n",
    ")\n",
    "from himalaya.scoring import r2_score_split, correlation_score_split\n",
    "\n",
    "\n",
    "from sklearn.model_selection import KFold\n",
    "from sklearn.pipeline import make_pipeline\n",
    "from sklearn.preprocessing import StandardScaler\n",
    "\n",
    "from voxelwise_tutorials.delayer import Delayer\n",
    "from voxelwise_tutorials.utils import explainable_variance\n",
    "from voxelwise_tutorials.viz import (\n",
    "    plot_2d_flatmap_from_mapper,\n",
    "    plot_flatmap_from_mapper,\n",
    ")\n",
    "\n",
    "import matplotlib.pyplot as plt"
   ]
  },
  {
   "cell_type": "code",
   "execution_count": 3,
   "metadata": {},
   "outputs": [],
   "source": [
    "\n",
    "from src.utils import make_delayed, load_dict\n",
    "from src.config import train_stories, test_stories, timescales\n",
    "from src.settings import TrainerConfig, SubjectConfig, FeatureConfig\n",
    "from src.trainer import Trainer"
   ]
  },
  {
   "cell_type": "markdown",
   "metadata": {},
   "source": [
    "# Config"
   ]
  },
  {
   "cell_type": "code",
   "execution_count": 4,
   "metadata": {},
   "outputs": [],
   "source": [
    "config_dir = \".temp/config/\"\n",
    "config_subject_dir = \".temp/config/subject/\"\n",
    "config_train_dir = \".temp/config/train/\"\n",
    "config_feature_dir = \".temp/config/feature\"\n",
    "\n",
    "if not os.path.exists(config_subject_dir):\n",
    "    os.makedirs(config_dir)\n",
    "\n",
    "if not os.path.exists(config_train_dir):\n",
    "    os.makedirs(config_train_dir)\n",
    "\n",
    "if not os.path.exists(config_feature_dir):\n",
    "    os.makedirs(config_feature_dir)"
   ]
  },
  {
   "cell_type": "code",
   "execution_count": 5,
   "metadata": {},
   "outputs": [],
   "source": [
    "lm_feature_type = \"BERT\"\n",
    "subject_id = \"07\""
   ]
  },
  {
   "cell_type": "code",
   "execution_count": 6,
   "metadata": {},
   "outputs": [],
   "source": [
    "sub_config = SubjectConfig()\n",
    "\n",
    "sub_config.sub_id = subject_id \n",
    "\n",
    "sub_config.sub_fmri_train_path = (\n",
    "    f\"/media/data/dataset/timescale/fmri/deniz2019/subject{subject_id}_reading_fmri_data_trn.hdf\"\n",
    ")\n",
    "sub_config.sub_fmri_test_path = (\n",
    "    f\"/media/data/dataset/timescale/fmri/deniz2019/subject{subject_id}_reading_fmri_data_val.hdf\"\n",
    ")\n",
    "sub_config.sub_fmri_mapper_path = (\n",
    "    f\"/media/data/dataset/timescale/fmri/deniz2019/subject{subject_id}_mappers.hdf\"\n",
    ")\n",
    "sub_config.task = \"reading\""
   ]
  },
  {
   "cell_type": "code",
   "execution_count": 7,
   "metadata": {},
   "outputs": [],
   "source": [
    "# save to json\n",
    "with open(\n",
    "    config_subject_dir + f\"subject-{sub_config.sub_id}-{sub_config.task}.json\", \"w\"\n",
    ") as fp:\n",
    "    json.dump(sub_config.__dict__, fp, indent=4)"
   ]
  },
  {
   "cell_type": "code",
   "execution_count": 8,
   "metadata": {},
   "outputs": [],
   "source": [
    "def generate_feature_config(lm_feature_type=lm_feature_type):\n",
    "    timescales = [\n",
    "        \"2_4_words\",\n",
    "        \"4_8_words\",\n",
    "        \"8_16_words\",\n",
    "        \"16_32_words\",\n",
    "        \"32_64_words\",\n",
    "        \"64_128_words\",\n",
    "        \"128_256_words\",\n",
    "        \"256+ words\",\n",
    "    ]\n",
    "\n",
    "    if lm_feature_type == \"BERT\":\n",
    "        lm_feature_path = (\n",
    "            \"/media/data/dataset/timescale/features/en/timescales_BERT_all.npz\"\n",
    "        )\n",
    "    else:\n",
    "        lm_feature_path = (\n",
    "            \"/media/data/dataset/timescale/features/en/timescales_mBERT_all.npz\"\n",
    "        )\n",
    "\n",
    "    dir = os.path.join(config_train_dir, lm_feature_type.lower())\n",
    "    if not os.path.exists(dir):\n",
    "        os.makedirs(dir)\n",
    "\n",
    "    f_dir = os.path.join(config_feature_dir, lm_feature_type.lower())\n",
    "    if not os.path.exists(f_dir):\n",
    "        os.makedirs(f_dir)\n",
    "\n",
    "    for t in timescales:\n",
    "        # Feature Config\n",
    "        feature_config = FeatureConfig()\n",
    "\n",
    "        feature_config.timescale = t\n",
    "\n",
    "        feature_config.lm_feature_path = lm_feature_path\n",
    "\n",
    "        feature_config.sensory_feature_train_paths = (\n",
    "            \"/media/data/dataset/timescale/features/en/features_trn_NEW.hdf\"\n",
    "        )\n",
    "        feature_config.sensory_feature_test_paths = (\n",
    "            \"/media/data/dataset/timescale/features/en/features_val_NEW.hdf\"\n",
    "        )\n",
    "        feature_config.sensory_features = [\"numletters\", \"numwords\"]\n",
    "\n",
    "        feature_config.motion_energy_feature_paths = (\n",
    "            \"/media/data/dataset/timescale/features/en/m_ll.npz\"\n",
    "        )\n",
    "        feature_config.motion_energy_features = [\"7\"]\n",
    "\n",
    "        ## saving config\n",
    "        fn = os.path.join(f_dir, t + \"-feature_config.json\")\n",
    "        with open(fn, \"w\") as fp:\n",
    "            json.dump(feature_config.__dict__, fp, indent=4)"
   ]
  },
  {
   "cell_type": "code",
   "execution_count": 9,
   "metadata": {},
   "outputs": [],
   "source": [
    "generate_feature_config(lm_feature_type=\"BERT\")\n",
    "generate_feature_config(lm_feature_type=\"mBERT\")"
   ]
  },
  {
   "cell_type": "code",
   "execution_count": 10,
   "metadata": {},
   "outputs": [],
   "source": [
    "\n",
    "def generate_trainer_config(lm_feature_type:str, n_iter = 1000, appendage :str = \"trainer_config\"):\n",
    "    # Trainer Config\n",
    "    trainer_config = TrainerConfig()\n",
    "\n",
    "    trainer_config.backend = \"torch_cuda\"\n",
    "     \n",
    "    trainer_config.fit_on_mask = True\n",
    "    \n",
    "    trainer_config.n_iter = n_iter\n",
    "    trainer_config.n_targets_batch  = 4096\n",
    "    trainer_config.n_targets_batch_refit = 1024\n",
    "\n",
    "    trainer_config.hyperparams_save_dir = (\n",
    "        f\".temp/results/{lm_feature_type.lower()}/hyperparams\"\n",
    "    )\n",
    "\n",
    "    trainer_config.stats_save_dir = f\".temp/results/{lm_feature_type.lower()}/stats\"\n",
    "    ## saving config\n",
    "    fn = os.path.join(config_train_dir, f\"{lm_feature_type.lower()}_{appendage}.json\")\n",
    "    with open(fn, \"w\") as fp:\n",
    "        json.dump(trainer_config.__dict__, fp, indent=4)"
   ]
  },
  {
   "cell_type": "code",
   "execution_count": 11,
   "metadata": {},
   "outputs": [],
   "source": [
    "generate_trainer_config(lm_feature_type=\"BERT\")\n",
    "generate_trainer_config(lm_feature_type=\"mBERT\")"
   ]
  },
  {
   "cell_type": "code",
   "execution_count": 12,
   "metadata": {},
   "outputs": [],
   "source": [
    "generate_trainer_config(lm_feature_type=\"BERT\", n_iter=100, appendage=\"trainer_config_100\")\n",
    "generate_trainer_config(lm_feature_type=\"mBERT\", n_iter=100, appendage=\"trainer_config_100\")"
   ]
  },
  {
   "cell_type": "markdown",
   "metadata": {},
   "source": [
    "# Training"
   ]
  },
  {
   "cell_type": "markdown",
   "metadata": {},
   "source": [
    "# Test training"
   ]
  },
  {
   "cell_type": "code",
   "execution_count": null,
   "metadata": {},
   "outputs": [],
   "source": [
    "train_config_path = \".temp/config/train/bert_trainer_config.json\"\n",
    "feature_config_path = \".temp/config/feature/bert/2_4_words-feature_config.json\"\n",
    "sub_config_path = \".temp/config/subject/subject-07-reading.json\""
   ]
  },
  {
   "cell_type": "code",
   "execution_count": null,
   "metadata": {},
   "outputs": [],
   "source": [
    "# load config\n",
    "with open(train_config_path) as f:\n",
    "    train_config = json.load(f)\n",
    "train_config = TrainerConfig(**train_config)\n",
    "\n",
    "with open(feature_config_path) as f:\n",
    "    feature_config = json.load(f)\n",
    "feature_config = FeatureConfig(**feature_config)\n",
    "\n",
    "with open(sub_config_path) as f:\n",
    "    sub_config = json.load(f)\n",
    "sub_config = SubjectConfig(**sub_config)\n"
   ]
  },
  {
   "cell_type": "code",
   "execution_count": null,
   "metadata": {},
   "outputs": [],
   "source": [
    "trainer = Trainer(sub_config=sub_config, feature_config=feature_config)"
   ]
  },
  {
   "cell_type": "code",
   "execution_count": null,
   "metadata": {},
   "outputs": [],
   "source": [
    "# train_config.n_iter = 10\n",
    "trainer.train(trainer_config=train_config)"
   ]
  },
  {
   "cell_type": "code",
   "execution_count": null,
   "metadata": {},
   "outputs": [],
   "source": [
    "trainer.refit_and_evaluate(trainer_config=train_config)"
   ]
  }
 ],
 "metadata": {
  "kernelspec": {
   "display_name": "vem",
   "language": "python",
   "name": "python3"
  },
  "language_info": {
   "codemirror_mode": {
    "name": "ipython",
    "version": 3
   },
   "file_extension": ".py",
   "mimetype": "text/x-python",
   "name": "python",
   "nbconvert_exporter": "python",
   "pygments_lexer": "ipython3",
   "version": "3.11.5"
  }
 },
 "nbformat": 4,
 "nbformat_minor": 2
}
