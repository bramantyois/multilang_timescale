{
 "cells": [
  {
   "cell_type": "code",
   "execution_count": 1,
   "metadata": {},
   "outputs": [
    {
     "name": "stdout",
     "output_type": "stream",
     "text": [
      "/home/ra/Codes/multilang_timescale\n"
     ]
    }
   ],
   "source": [
    "import os\n",
    "\n",
    "# move to project root\n",
    "while True:\n",
    "    # get list of directories\n",
    "    dirs = os.listdir()\n",
    "    if \"README.md\" in dirs:\n",
    "        break\n",
    "    else:\n",
    "        os.chdir(\"..\")\n",
    "print(os.getcwd())"
   ]
  },
  {
   "cell_type": "code",
   "execution_count": 2,
   "metadata": {},
   "outputs": [],
   "source": [
    "import json\n",
    "\n",
    "from typing import List\n",
    "import h5py\n",
    "\n",
    "\n",
    "from itertools import product\n",
    "\n",
    "import matplotlib.pyplot as plt\n",
    "import pandas as pd\n",
    "import numpy as np"
   ]
  },
  {
   "cell_type": "code",
   "execution_count": 3,
   "metadata": {},
   "outputs": [],
   "source": [
    "from src.trainer import Trainer\n",
    "from src.settings import TrainerConfig, SubjectConfig, FeatureConfig, ResultConfig\n",
    "\n",
    "from src.plotting import plot_flatmap_from_mapper, plot_timeline_flatmaps"
   ]
  },
  {
   "cell_type": "code",
   "execution_count": 4,
   "metadata": {},
   "outputs": [],
   "source": [
    "from himalaya import kernel_ridge"
   ]
  },
  {
   "cell_type": "code",
   "execution_count": 5,
   "metadata": {},
   "outputs": [],
   "source": [
    "result_meta_dir = \".temp/result_meta\""
   ]
  },
  {
   "cell_type": "code",
   "execution_count": 6,
   "metadata": {},
   "outputs": [],
   "source": [
    "# scanning result meta json files and put it into a dataframe\n",
    "result_meta_files = os.listdir(result_meta_dir)\n",
    "result_meta_files = [f for f in result_meta_files if f.endswith(\".json\")]\n",
    "## read json and cast it into ResultConfig\n",
    "result_meta_list = []\n",
    "for f in result_meta_files:\n",
    "    with open(os.path.join(result_meta_dir, f), \"r\") as f:\n",
    "        result_config = ResultConfig(**json.load(f))\n",
    "        result_meta_list.append(result_config.dict())\n",
    "\n",
    "result_meta_df = pd.DataFrame(result_meta_list)\n",
    "\n",
    "# add result_meta_files to result_meta_df\n",
    "result_meta_df[\"result_meta_file\"] = [\n",
    "    os.path.join(result_meta_dir, f) for f in result_meta_files\n",
    "]"
   ]
  },
  {
   "cell_type": "code",
   "execution_count": 7,
   "metadata": {},
   "outputs": [
    {
     "data": {
      "text/html": [
       "<div>\n",
       "<style scoped>\n",
       "    .dataframe tbody tr th:only-of-type {\n",
       "        vertical-align: middle;\n",
       "    }\n",
       "\n",
       "    .dataframe tbody tr th {\n",
       "        vertical-align: top;\n",
       "    }\n",
       "\n",
       "    .dataframe thead th {\n",
       "        text-align: right;\n",
       "    }\n",
       "</style>\n",
       "<table border=\"1\" class=\"dataframe\">\n",
       "  <thead>\n",
       "    <tr style=\"text-align: right;\">\n",
       "      <th></th>\n",
       "      <th>subject_config_path</th>\n",
       "      <th>feature_config_path</th>\n",
       "      <th>trainer_config_path</th>\n",
       "      <th>result_dir</th>\n",
       "      <th>hyperparam_path</th>\n",
       "      <th>stats_path</th>\n",
       "      <th>plot_dir</th>\n",
       "      <th>result_meta_file</th>\n",
       "    </tr>\n",
       "  </thead>\n",
       "  <tbody>\n",
       "    <tr>\n",
       "      <th>0</th>\n",
       "      <td>.temp/config/subject/subject-07-reading.json</td>\n",
       "      <td>.temp/config/feature/BERT-all_timescales-7-fea...</td>\n",
       "      <td>.temp/config/train/trainer_config.json</td>\n",
       "      <td>.temp/result/faa8e328-affe-4746-bdad-0de0b12bc185</td>\n",
       "      <td>.temp/result/faa8e328-affe-4746-bdad-0de0b12bc...</td>\n",
       "      <td>.temp/result/faa8e328-affe-4746-bdad-0de0b12bc...</td>\n",
       "      <td>.temp/result/faa8e328-affe-4746-bdad-0de0b12bc...</td>\n",
       "      <td>.temp/result_meta/faa8e328-affe-4746-bdad-0de0...</td>\n",
       "    </tr>\n",
       "    <tr>\n",
       "      <th>1</th>\n",
       "      <td>.temp/config/subject/subject-07-reading.json</td>\n",
       "      <td>.temp/config/feature/mBERT-all_timescales-7-fe...</td>\n",
       "      <td>.temp/config/train/trainer_config.json</td>\n",
       "      <td>.temp/result/d22dc457-d5ee-44c7-be34-54055609a957</td>\n",
       "      <td>.temp/result/d22dc457-d5ee-44c7-be34-54055609a...</td>\n",
       "      <td>.temp/result/d22dc457-d5ee-44c7-be34-54055609a...</td>\n",
       "      <td>.temp/result/d22dc457-d5ee-44c7-be34-54055609a...</td>\n",
       "      <td>.temp/result_meta/d22dc457-d5ee-44c7-be34-5405...</td>\n",
       "    </tr>\n",
       "    <tr>\n",
       "      <th>2</th>\n",
       "      <td>.temp/config/subject/subject-07-reading.json</td>\n",
       "      <td>.temp/config/feature/BERT-all_timescales-7-fea...</td>\n",
       "      <td>.temp/config/train/trainer_config_shorttime.json</td>\n",
       "      <td>.temp/result/5813c885-182d-4f54-995f-8647544ab66e</td>\n",
       "      <td>.temp/result/5813c885-182d-4f54-995f-8647544ab...</td>\n",
       "      <td>.temp/result/5813c885-182d-4f54-995f-8647544ab...</td>\n",
       "      <td>.temp/result/5813c885-182d-4f54-995f-8647544ab...</td>\n",
       "      <td>.temp/result_meta/5813c885-182d-4f54-995f-8647...</td>\n",
       "    </tr>\n",
       "  </tbody>\n",
       "</table>\n",
       "</div>"
      ],
      "text/plain": [
       "                            subject_config_path  \\\n",
       "0  .temp/config/subject/subject-07-reading.json   \n",
       "1  .temp/config/subject/subject-07-reading.json   \n",
       "2  .temp/config/subject/subject-07-reading.json   \n",
       "\n",
       "                                 feature_config_path  \\\n",
       "0  .temp/config/feature/BERT-all_timescales-7-fea...   \n",
       "1  .temp/config/feature/mBERT-all_timescales-7-fe...   \n",
       "2  .temp/config/feature/BERT-all_timescales-7-fea...   \n",
       "\n",
       "                                trainer_config_path  \\\n",
       "0            .temp/config/train/trainer_config.json   \n",
       "1            .temp/config/train/trainer_config.json   \n",
       "2  .temp/config/train/trainer_config_shorttime.json   \n",
       "\n",
       "                                          result_dir  \\\n",
       "0  .temp/result/faa8e328-affe-4746-bdad-0de0b12bc185   \n",
       "1  .temp/result/d22dc457-d5ee-44c7-be34-54055609a957   \n",
       "2  .temp/result/5813c885-182d-4f54-995f-8647544ab66e   \n",
       "\n",
       "                                     hyperparam_path  \\\n",
       "0  .temp/result/faa8e328-affe-4746-bdad-0de0b12bc...   \n",
       "1  .temp/result/d22dc457-d5ee-44c7-be34-54055609a...   \n",
       "2  .temp/result/5813c885-182d-4f54-995f-8647544ab...   \n",
       "\n",
       "                                          stats_path  \\\n",
       "0  .temp/result/faa8e328-affe-4746-bdad-0de0b12bc...   \n",
       "1  .temp/result/d22dc457-d5ee-44c7-be34-54055609a...   \n",
       "2  .temp/result/5813c885-182d-4f54-995f-8647544ab...   \n",
       "\n",
       "                                            plot_dir  \\\n",
       "0  .temp/result/faa8e328-affe-4746-bdad-0de0b12bc...   \n",
       "1  .temp/result/d22dc457-d5ee-44c7-be34-54055609a...   \n",
       "2  .temp/result/5813c885-182d-4f54-995f-8647544ab...   \n",
       "\n",
       "                                    result_meta_file  \n",
       "0  .temp/result_meta/faa8e328-affe-4746-bdad-0de0...  \n",
       "1  .temp/result_meta/d22dc457-d5ee-44c7-be34-5405...  \n",
       "2  .temp/result_meta/5813c885-182d-4f54-995f-8647...  "
      ]
     },
     "execution_count": 7,
     "metadata": {},
     "output_type": "execute_result"
    }
   ],
   "source": [
    "result_meta_df.head()"
   ]
  },
  {
   "cell_type": "code",
   "execution_count": 8,
   "metadata": {},
   "outputs": [
    {
     "data": {
      "text/plain": [
       "array(['.temp/config/train/trainer_config.json',\n",
       "       '.temp/config/train/trainer_config_shorttime.json'], dtype=object)"
      ]
     },
     "execution_count": 8,
     "metadata": {},
     "output_type": "execute_result"
    }
   ],
   "source": [
    "result_meta_df[\"trainer_config_path\"].unique()"
   ]
  },
  {
   "cell_type": "code",
   "execution_count": 9,
   "metadata": {},
   "outputs": [
    {
     "data": {
      "text/plain": [
       "array(['.temp/config/subject/subject-07-reading.json'], dtype=object)"
      ]
     },
     "execution_count": 9,
     "metadata": {},
     "output_type": "execute_result"
    }
   ],
   "source": [
    "result_meta_df[\"subject_config_path\"].unique()"
   ]
  },
  {
   "cell_type": "code",
   "execution_count": 10,
   "metadata": {},
   "outputs": [
    {
     "data": {
      "text/plain": [
       "array(['.temp/config/feature/BERT-all_timescales-7-feature_config.json',\n",
       "       '.temp/config/feature/mBERT-all_timescales-7-feature_config.json'],\n",
       "      dtype=object)"
      ]
     },
     "execution_count": 10,
     "metadata": {},
     "output_type": "execute_result"
    }
   ],
   "source": [
    "result_meta_df[\"feature_config_path\"].unique()"
   ]
  },
  {
   "cell_type": "code",
   "execution_count": 11,
   "metadata": {},
   "outputs": [],
   "source": [
    "# select some results\n",
    "selected_train_config = [\".temp/config/train/trainer_config.json\"]\n",
    "selected_feature_config = [\n",
    "    \".temp/config/feature/BERT-all_timescales-7-feature_config.json\",\n",
    "    \".temp/config/feature/mBERT-all_timescales-7-feature_config.json\",\n",
    "]\n",
    "selected_subject_config = [\".temp/config/subject/subject-07-reading.json\"]\n",
    "\n",
    "# now select dataframe\n",
    "selected_result_meta_df = result_meta_df.query(\n",
    "    \"trainer_config_path in @selected_train_config and \\\n",
    "                                                feature_config_path in @selected_feature_config and \\\n",
    "                                                subject_config_path in @selected_subject_config\"\n",
    ")"
   ]
  },
  {
   "cell_type": "code",
   "execution_count": 12,
   "metadata": {},
   "outputs": [
    {
     "data": {
      "text/html": [
       "<div>\n",
       "<style scoped>\n",
       "    .dataframe tbody tr th:only-of-type {\n",
       "        vertical-align: middle;\n",
       "    }\n",
       "\n",
       "    .dataframe tbody tr th {\n",
       "        vertical-align: top;\n",
       "    }\n",
       "\n",
       "    .dataframe thead th {\n",
       "        text-align: right;\n",
       "    }\n",
       "</style>\n",
       "<table border=\"1\" class=\"dataframe\">\n",
       "  <thead>\n",
       "    <tr style=\"text-align: right;\">\n",
       "      <th></th>\n",
       "      <th>subject_config_path</th>\n",
       "      <th>feature_config_path</th>\n",
       "      <th>trainer_config_path</th>\n",
       "      <th>result_dir</th>\n",
       "      <th>hyperparam_path</th>\n",
       "      <th>stats_path</th>\n",
       "      <th>plot_dir</th>\n",
       "      <th>result_meta_file</th>\n",
       "    </tr>\n",
       "  </thead>\n",
       "  <tbody>\n",
       "    <tr>\n",
       "      <th>0</th>\n",
       "      <td>.temp/config/subject/subject-07-reading.json</td>\n",
       "      <td>.temp/config/feature/BERT-all_timescales-7-fea...</td>\n",
       "      <td>.temp/config/train/trainer_config.json</td>\n",
       "      <td>.temp/result/faa8e328-affe-4746-bdad-0de0b12bc185</td>\n",
       "      <td>.temp/result/faa8e328-affe-4746-bdad-0de0b12bc...</td>\n",
       "      <td>.temp/result/faa8e328-affe-4746-bdad-0de0b12bc...</td>\n",
       "      <td>.temp/result/faa8e328-affe-4746-bdad-0de0b12bc...</td>\n",
       "      <td>.temp/result_meta/faa8e328-affe-4746-bdad-0de0...</td>\n",
       "    </tr>\n",
       "    <tr>\n",
       "      <th>1</th>\n",
       "      <td>.temp/config/subject/subject-07-reading.json</td>\n",
       "      <td>.temp/config/feature/mBERT-all_timescales-7-fe...</td>\n",
       "      <td>.temp/config/train/trainer_config.json</td>\n",
       "      <td>.temp/result/d22dc457-d5ee-44c7-be34-54055609a957</td>\n",
       "      <td>.temp/result/d22dc457-d5ee-44c7-be34-54055609a...</td>\n",
       "      <td>.temp/result/d22dc457-d5ee-44c7-be34-54055609a...</td>\n",
       "      <td>.temp/result/d22dc457-d5ee-44c7-be34-54055609a...</td>\n",
       "      <td>.temp/result_meta/d22dc457-d5ee-44c7-be34-5405...</td>\n",
       "    </tr>\n",
       "  </tbody>\n",
       "</table>\n",
       "</div>"
      ],
      "text/plain": [
       "                            subject_config_path  \\\n",
       "0  .temp/config/subject/subject-07-reading.json   \n",
       "1  .temp/config/subject/subject-07-reading.json   \n",
       "\n",
       "                                 feature_config_path  \\\n",
       "0  .temp/config/feature/BERT-all_timescales-7-fea...   \n",
       "1  .temp/config/feature/mBERT-all_timescales-7-fe...   \n",
       "\n",
       "                      trainer_config_path  \\\n",
       "0  .temp/config/train/trainer_config.json   \n",
       "1  .temp/config/train/trainer_config.json   \n",
       "\n",
       "                                          result_dir  \\\n",
       "0  .temp/result/faa8e328-affe-4746-bdad-0de0b12bc185   \n",
       "1  .temp/result/d22dc457-d5ee-44c7-be34-54055609a957   \n",
       "\n",
       "                                     hyperparam_path  \\\n",
       "0  .temp/result/faa8e328-affe-4746-bdad-0de0b12bc...   \n",
       "1  .temp/result/d22dc457-d5ee-44c7-be34-54055609a...   \n",
       "\n",
       "                                          stats_path  \\\n",
       "0  .temp/result/faa8e328-affe-4746-bdad-0de0b12bc...   \n",
       "1  .temp/result/d22dc457-d5ee-44c7-be34-54055609a...   \n",
       "\n",
       "                                            plot_dir  \\\n",
       "0  .temp/result/faa8e328-affe-4746-bdad-0de0b12bc...   \n",
       "1  .temp/result/d22dc457-d5ee-44c7-be34-54055609a...   \n",
       "\n",
       "                                    result_meta_file  \n",
       "0  .temp/result_meta/faa8e328-affe-4746-bdad-0de0...  \n",
       "1  .temp/result_meta/d22dc457-d5ee-44c7-be34-5405...  "
      ]
     },
     "execution_count": 12,
     "metadata": {},
     "output_type": "execute_result"
    }
   ],
   "source": [
    "selected_result_meta_df"
   ]
  },
  {
   "cell_type": "code",
   "execution_count": 13,
   "metadata": {},
   "outputs": [],
   "source": [
    "result_config_json_mbert = selected_result_meta_df.iloc[1].to_dict()\n",
    "result_config_json_bert = selected_result_meta_df.iloc[0].to_dict()"
   ]
  },
  {
   "cell_type": "code",
   "execution_count": 14,
   "metadata": {},
   "outputs": [],
   "source": [
    "bert_trainer = Trainer(result_config_json=result_config_json_bert[\"result_meta_file\"])"
   ]
  },
  {
   "cell_type": "code",
   "execution_count": 15,
   "metadata": {},
   "outputs": [
    {
     "name": "stdout",
     "output_type": "stream",
     "text": [
      "refitting...\n",
      "predicting in batches...\n",
      "computing scores...\n",
      "computing timescale selectivity...\n"
     ]
    },
    {
     "name": "stderr",
     "output_type": "stream",
     "text": [
      "/home/ra/Codes/multilang_timescale/src/utils.py:144: RuntimeWarning: invalid value encountered in divide\n",
      "  normalized_scores = np.nan_to_num(nz_scores / score_sum)\n"
     ]
    },
    {
     "ename": "NameError",
     "evalue": "name 'train_r2_score_mask' is not defined",
     "output_type": "error",
     "traceback": [
      "\u001b[0;31m---------------------------------------------------------------------------\u001b[0m",
      "\u001b[0;31mNameError\u001b[0m                                 Traceback (most recent call last)",
      "Cell \u001b[0;32mIn[15], line 1\u001b[0m\n\u001b[0;32m----> 1\u001b[0m bert_prediction \u001b[38;5;241m=\u001b[39m \u001b[43mbert_trainer\u001b[49m\u001b[38;5;241;43m.\u001b[39;49m\u001b[43mrefit_and_evaluate\u001b[49m\u001b[43m(\u001b[49m\u001b[43mreturn_pred\u001b[49m\u001b[38;5;241;43m=\u001b[39;49m\u001b[38;5;28;43;01mTrue\u001b[39;49;00m\u001b[43m)\u001b[49m\n",
      "File \u001b[0;32m~/Codes/multilang_timescale/src/trainer.py:489\u001b[0m, in \u001b[0;36mTrainer.refit_and_evaluate\u001b[0;34m(self, force_cpu, return_pred)\u001b[0m\n\u001b[1;32m    484\u001b[0m test_r2_timescale_selectivity \u001b[38;5;241m=\u001b[39m compute_timescale_selectivity(\n\u001b[1;32m    485\u001b[0m     test_r2_score_mask[\u001b[38;5;241m0\u001b[39m:\u001b[38;5;241m8\u001b[39m]\n\u001b[1;32m    486\u001b[0m )\n\u001b[1;32m    488\u001b[0m \u001b[38;5;28;01mif\u001b[39;00m \u001b[38;5;28mself\u001b[39m\u001b[38;5;241m.\u001b[39mtrainer_config\u001b[38;5;241m.\u001b[39mfit_on_mask:\n\u001b[0;32m--> 489\u001b[0m     n_kernels \u001b[38;5;241m=\u001b[39m \u001b[43mtrain_r2_score_mask\u001b[49m\u001b[38;5;241m.\u001b[39mshape[\u001b[38;5;241m0\u001b[39m]\n\u001b[1;32m    490\u001b[0m     n_voxels \u001b[38;5;241m=\u001b[39m \u001b[38;5;28mself\u001b[39m\u001b[38;5;241m.\u001b[39mtest_data\u001b[38;5;241m.\u001b[39mshape[\u001b[38;5;241m1\u001b[39m]\n\u001b[1;32m    492\u001b[0m     \u001b[38;5;66;03m# train_r2_split_scores = np.zeros((n_kernels, n_voxels))\u001b[39;00m\n\u001b[1;32m    493\u001b[0m     \u001b[38;5;66;03m# train_r_split_scores = np.zeros((n_kernels, n_voxels))\u001b[39;00m\n",
      "\u001b[0;31mNameError\u001b[0m: name 'train_r2_score_mask' is not defined"
     ]
    }
   ],
   "source": [
    "bert_prediction = bert_trainer.refit_and_evaluate(return_pred=True)"
   ]
  },
  {
   "cell_type": "code",
   "execution_count": null,
   "metadata": {},
   "outputs": [],
   "source": [
    "# temporarily save the prediction on a file\n",
    "bert_prediction_file = \".temp/matrices/bert_prediction.npz\"\n",
    "np.savez_compressed(bert_prediction_file, **bert_prediction)"
   ]
  },
  {
   "cell_type": "code",
   "execution_count": null,
   "metadata": {},
   "outputs": [],
   "source": [
    "bert_test_targets = bert_trainer.test_data[:, bert_trainer.mask]\n",
    "np.savez_compressed(\".temp/matrices/bert_test_targets.npz\", **{\"targets\": bert_test_targets})"
   ]
  },
  {
   "cell_type": "code",
   "execution_count": null,
   "metadata": {},
   "outputs": [],
   "source": [
    "from himalaya.scoring import r2_score_split\n",
    "import multiprocessing"
   ]
  },
  {
   "cell_type": "code",
   "execution_count": null,
   "metadata": {},
   "outputs": [],
   "source": [
    "bert_test_pred = bert_prediction\n",
    "bert_test_targets = bert_trainer.test_data[:, bert_trainer.mask]\n",
    "\n",
    "predictions = bert_test_pred\n",
    "targets = bert_test_targets\n",
    "\n",
    "score_func = r2_score_split\n",
    "\n",
    "num_permutations = 50\n",
    "permutation_block_size = 10\n",
    "num_processes = 10\n",
    "\n",
    "\n",
    "true_scores = score_func(targets, predictions)\n",
    "\n",
    "num_TRs = predictions.shape[0]\n",
    "blocks = np.array_split(np.arange(num_TRs), int(num_TRs / permutation_block_size))\n",
    "\n",
    "def single_test(repeats: int = 0, seed: int = 0):\n",
    "    np.random.seed(seed)\n",
    "    num_get_true_score = np.zeros(true_scores.shape)\n",
    "    for i in range(repeats):\n",
    "        np.random.shuffle(blocks)\n",
    "        permutation_order = np.concatenate(blocks)\n",
    "        shuffled_pred = predictions[permutation_order]\n",
    "        shuffled_scores = score_func(targets, shuffled_pred)\n",
    "        num_get_true_score[shuffled_scores >= true_scores] += 1\n",
    "    return num_get_true_score\n",
    "\n",
    "repeats = num_permutations // num_processes\n",
    "seeds = np.random.randint(0, 1000000, num_processes)    \n",
    "\n",
    "with multiprocessing.Pool(num_processes) as pool:\n",
    "    num_get_true_scores = pool.starmap(single_test, zip([repeats] * num_processes, seeds))\n"
   ]
  },
  {
   "cell_type": "code",
   "execution_count": null,
   "metadata": {},
   "outputs": [],
   "source": [
    "num_get_true_score_sum = np.sum(num_get_true_scores, axis=0)"
   ]
  },
  {
   "cell_type": "code",
   "execution_count": null,
   "metadata": {},
   "outputs": [],
   "source": [
    "num_get_true_score_sum / (repeats * num_processes)"
   ]
  },
  {
   "cell_type": "code",
   "execution_count": null,
   "metadata": {},
   "outputs": [],
   "source": [
    "# permutation test\n",
    "def permutation_test(\n",
    "    targets: np.ndarray,\n",
    "    predictions: np.ndarray,\n",
    "    score_func: callable,\n",
    "    num_permutations: int = 1000,\n",
    "    permutation_block_size: int = 10,\n",
    ") -> Tuple[np.ndarray, np.ndarray]:\n",
    "    \"\"\"Compute the p-values of the given predictions using a permutation test.\n",
    "\n",
    "    Parameters\n",
    "    ----------\n",
    "    targets : np.ndarray\n",
    "        Ground truth.\n",
    "    predictions : np.ndarray\n",
    "        Predicted values.\n",
    "    score_func : callable\n",
    "        Callable function to compute the score.\n",
    "    num_permutations : int, optional\n",
    "        Number of permutations, by default 1000\n",
    "    permutation_block_size : int, optional\n",
    "        Block size, intended to keep correlation high, by default 10\n",
    "\n",
    "    Returns\n",
    "    -------\n",
    "    pvalues : np.ndarray\n",
    "        p-values.\n",
    "    true_scores : np.ndarray\n",
    "        True scores.\n",
    "    \"\"\"\n",
    "\n",
    "    true_scores = score_func(targets, predictions)\n",
    "    \n",
    "    num_TRs = predictions.shape[0]\n",
    "    blocks = np.array_split(np.arange(num_TRs), int(num_TRs / permutation_block_size))\n",
    "    \n",
    "    num_get_true_score = np.zeros(true_scores.shape)\n",
    "\n",
    "    for permutation_num in tqdm(range(num_permutations)):\n",
    "        _ = np.random.shuffle(blocks)\n",
    "        permutation_order = np.concatenate(blocks)\n",
    "        shuffled_pred = predictions[permutation_order]\n",
    "        shuffled_scores = score_func(targets, shuffled_pred)\n",
    "        num_get_true_score[shuffled_scores >= true_scores] += 1\n",
    "    pvalues = num_get_true_score / num_permutations\n",
    "    \n",
    "    return pvalues, true_scores\n"
   ]
  },
  {
   "cell_type": "code",
   "execution_count": null,
   "metadata": {},
   "outputs": [],
   "source": [
    "import multiprocessing\n",
    "\n",
    "# parallel permutation test\n",
    "\n",
    "def parallel_permutation_mp(\n",
    "    targets: np.ndarray,\n",
    "    predictions: np.ndarray,\n",
    "    score_func: callable,\n",
    "    num_permutations: int = 1000,\n",
    "    permutation_block_size: int = 10,\n",
    "    num_processes: int = 10,\n",
    ") -> Tuple[np.ndarray, np.ndarray]:\n",
    "    \n",
    "    true_scores = score_func(targets, predictions)\n",
    "    \n",
    "    num_TRs = predictions.shape[0]\n",
    "    blocks = np.array_split(np.arange(num_TRs), int(num_TRs / permutation_block_size))\n",
    "        \n",
    "    def single_test():\n",
    "        num_get_true_score = np.zeros(true_scores.shape)    \n",
    "        _ = np.random.shuffle(blocks)\n",
    "        permutation_order = np.concatenate(blocks)\n",
    "        shuffled_pred = predictions[permutation_order]\n",
    "        shuffled_scores = score_func(targets, shuffled_pred)\n",
    "\n",
    "        return num_get_true_score[shuffled_scores >= true_scores] + 1\n",
    "\n",
    "    "
   ]
  },
  {
   "cell_type": "code",
   "execution_count": null,
   "metadata": {},
   "outputs": [],
   "source": []
  },
  {
   "cell_type": "code",
   "execution_count": null,
   "metadata": {},
   "outputs": [],
   "source": []
  },
  {
   "cell_type": "code",
   "execution_count": null,
   "metadata": {},
   "outputs": [],
   "source": []
  },
  {
   "cell_type": "code",
   "execution_count": null,
   "metadata": {},
   "outputs": [],
   "source": [
    "bert_scores = trainer.get_scores()"
   ]
  },
  {
   "cell_type": "code",
   "execution_count": null,
   "metadata": {},
   "outputs": [],
   "source": [
    "test_selectivity = bert_scores[\"test_r2_selectivity\"]"
   ]
  },
  {
   "cell_type": "code",
   "execution_count": null,
   "metadata": {},
   "outputs": [],
   "source": [
    "plot_flatmap_from_mapper(\n",
    "    test_selectivity,\n",
    "    trainer.sub_config.sub_fmri_mapper_path,\n",
    "    alpha=trainer.mask.astype(float),\n",
    "    cmap=\"rainbow\",\n",
    ")"
   ]
  },
  {
   "cell_type": "code",
   "execution_count": null,
   "metadata": {},
   "outputs": [],
   "source": [
    "trainer = Trainer(result_config_json=result_config_json_mbert[\"result_meta_file\"])\n",
    "prediction = trainer.refit_and_evaluate(return_pred=True)"
   ]
  },
  {
   "cell_type": "code",
   "execution_count": null,
   "metadata": {},
   "outputs": [],
   "source": [
    "mbert_scores = trainer.get_scores() \n",
    "test_selectivity = mbert_scores[\"test_r2_selectivity\"]\n",
    "plot_flatmap_from_mapper(\n",
    "    test_selectivity,\n",
    "    trainer.sub_config.sub_fmri_mapper_path,\n",
    "    alpha=trainer.mask.astype(float),\n",
    "    cmap=\"rainbow\",\n",
    ")"
   ]
  },
  {
   "cell_type": "markdown",
   "metadata": {},
   "source": [
    "# ARG MAX Timescale"
   ]
  },
  {
   "cell_type": "code",
   "execution_count": null,
   "metadata": {},
   "outputs": [],
   "source": [
    "plot_timeline_flatmaps(\n",
    "    result_config_json_mbert[\"result_meta_file\"], feature_name=\"mBERT\"\n",
    ")"
   ]
  },
  {
   "cell_type": "code",
   "execution_count": null,
   "metadata": {},
   "outputs": [],
   "source": [
    "plot_timeline_flatmaps(\n",
    "    result_config_json_mbert[\"result_meta_file\"], feature_name=\"mBERT\", is_corr=False\n",
    ")"
   ]
  },
  {
   "cell_type": "code",
   "execution_count": null,
   "metadata": {},
   "outputs": [],
   "source": [
    "plot_timeline_flatmaps(result_config_json_bert[\"result_meta_file\"], feature_name=\"BERT\")"
   ]
  },
  {
   "cell_type": "code",
   "execution_count": null,
   "metadata": {},
   "outputs": [],
   "source": [
    "plot_timeline_flatmaps(\n",
    "    result_config_json_bert[\"result_meta_file\"], feature_name=\"BERT\", is_corr=False\n",
    ")"
   ]
  },
  {
   "cell_type": "code",
   "execution_count": null,
   "metadata": {},
   "outputs": [],
   "source": [
    "def plot_flatmap(\n",
    "    train_config_paths: List[str],\n",
    "    feature_config_paths: List[str],\n",
    "    subject_config_paths: List[str],\n",
    "    feature_index: int = 0,\n",
    "    is_corr: bool = True,\n",
    "    save_dir=\".temp/plots/\",\n",
    "):\n",
    "    configs = list(\n",
    "        product(subject_config_paths, train_config_paths, feature_config_paths)\n",
    "    )\n",
    "\n",
    "    for subject_config_path, train_config_path, feature_config_path in configs:\n",
    "        print(subject_config_path, train_config_path, feature_config_path)\n",
    "        with open(subject_config_path, \"r\") as f:\n",
    "            subject_config = SubjectConfig(**json.load(f))\n",
    "        with open(train_config_path, \"r\") as f:\n",
    "            train_config = TrainerConfig(**json.load(f))\n",
    "        with open(feature_config_path, \"r\") as f:\n",
    "            feature_config = FeatureConfig(**json.load(f))\n",
    "        trainer = Trainer(subject_config, feature_config)\n",
    "        trainer.plot(\n",
    "            trainer_config=train_config,\n",
    "            feature_index=feature_index,\n",
    "            is_corr=is_corr,\n",
    "        )\n",
    "\n",
    "        if os.path.exists(save_dir) == False:\n",
    "            os.makedirs(save_dir)\n",
    "\n",
    "        save_path = os.path.join(\n",
    "            save_dir,\n",
    "            f\"{subject_config.sub_id}_{subject_config.task}_{feature_config.timescale}.png\",\n",
    "        )\n",
    "\n",
    "        # plt.title(\n",
    "        #     f\"{subject_config.sub_id}_{subject_config.task}_{feature_config.timescale}\"\n",
    "        # )\n",
    "        plt.savefig(save_path)"
   ]
  },
  {
   "cell_type": "markdown",
   "metadata": {},
   "source": [
    "# mBERT MOTEN"
   ]
  },
  {
   "cell_type": "code",
   "execution_count": null,
   "metadata": {},
   "outputs": [],
   "source": [
    "# BERT\n",
    "train_config_paths = [\n",
    "    # \".temp/config/train/bert_trainer_config.json\",\n",
    "    \".temp/config/train/mbert_trainer_config_100.json\"\n",
    "]\n",
    "\n",
    "feature_config_paths = os.listdir(\".temp/config/feature/mbert\")\n",
    "feature_config_paths = [\n",
    "    os.path.join(\".temp/config/feature/mbert\", path) for path in feature_config_paths\n",
    "]\n",
    "\n",
    "subject_config_paths = [\n",
    "    \".temp/config/subject/subject-07-reading.json\",\n",
    "]\n",
    "\n",
    "plot_flatmap(\n",
    "    train_config_paths=train_config_paths,\n",
    "    feature_config_paths=feature_config_paths,\n",
    "    subject_config_paths=subject_config_paths,\n",
    "    feature_index=-1,\n",
    "    is_corr=True,\n",
    "    save_dir=\".temp/results/mbert/plots/\",\n",
    ")"
   ]
  },
  {
   "cell_type": "markdown",
   "metadata": {},
   "source": [
    "# mBERT - timescale"
   ]
  },
  {
   "cell_type": "code",
   "execution_count": null,
   "metadata": {},
   "outputs": [],
   "source": [
    "plot_flatmap(\n",
    "    train_config_paths=train_config_paths,\n",
    "    feature_config_paths=feature_config_paths,\n",
    "    subject_config_paths=subject_config_paths,\n",
    "    feature_index=0,\n",
    "    is_corr=True,\n",
    "    save_dir=\".temp/results/mbert/plots/\",\n",
    ")"
   ]
  },
  {
   "cell_type": "markdown",
   "metadata": {},
   "source": [
    "# BERT MOTEN"
   ]
  },
  {
   "cell_type": "code",
   "execution_count": null,
   "metadata": {},
   "outputs": [],
   "source": [
    "# BERT\n",
    "train_config_paths = [\n",
    "    \".temp/config/train/bert_trainer_config.json\",\n",
    "]\n",
    "\n",
    "feature_config_paths = os.listdir(\".temp/config/feature/bert\")\n",
    "feature_config_paths = [\n",
    "    os.path.join(\".temp/config/feature/bert\", path) for path in feature_config_paths\n",
    "]\n",
    "\n",
    "subject_config_paths = [\n",
    "    \".temp/config/subject/subject-07-reading.json\",\n",
    "]\n",
    "\n",
    "plot_flatmap(\n",
    "    train_config_paths=train_config_paths,\n",
    "    feature_config_paths=feature_config_paths,\n",
    "    subject_config_paths=subject_config_paths,\n",
    "    feature_index=-1,\n",
    "    is_corr=True,\n",
    "    save_dir=\".temp/results/bert/plots/\",\n",
    ")"
   ]
  },
  {
   "cell_type": "markdown",
   "metadata": {},
   "source": [
    "# BERT - timescale"
   ]
  },
  {
   "cell_type": "code",
   "execution_count": null,
   "metadata": {},
   "outputs": [],
   "source": [
    "plot_flatmap(\n",
    "    train_config_paths=train_config_paths,\n",
    "    feature_config_paths=feature_config_paths,\n",
    "    subject_config_paths=subject_config_paths,\n",
    "    feature_index=0,\n",
    "    is_corr=True,\n",
    "    save_dir=\".temp/results/bert/plots/\",\n",
    ")"
   ]
  },
  {
   "cell_type": "code",
   "execution_count": null,
   "metadata": {},
   "outputs": [],
   "source": []
  }
 ],
 "metadata": {
  "kernelspec": {
   "display_name": "vem",
   "language": "python",
   "name": "python3"
  },
  "language_info": {
   "codemirror_mode": {
    "name": "ipython",
    "version": 3
   },
   "file_extension": ".py",
   "mimetype": "text/x-python",
   "name": "python",
   "nbconvert_exporter": "python",
   "pygments_lexer": "ipython3",
   "version": "3.11.5"
  }
 },
 "nbformat": 4,
 "nbformat_minor": 2
}
