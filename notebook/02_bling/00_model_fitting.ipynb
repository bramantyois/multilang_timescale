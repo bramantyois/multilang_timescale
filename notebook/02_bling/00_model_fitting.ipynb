{
 "cells": [
  {
   "cell_type": "code",
   "execution_count": 1,
   "metadata": {},
   "outputs": [
    {
     "name": "stdout",
     "output_type": "stream",
     "text": [
      "/mnt/antares_raid/home/bramantyos/codes/multilang_timescale\n"
     ]
    }
   ],
   "source": [
    "import os\n",
    "\n",
    "# move to project root\n",
    "while True:\n",
    "    # get list of directories\n",
    "    dirs = os.listdir()\n",
    "    if \"README.md\" in dirs:\n",
    "        break\n",
    "    else:\n",
    "        os.chdir(\"..\")\n",
    "print(os.getcwd())"
   ]
  },
  {
   "cell_type": "code",
   "execution_count": 2,
   "metadata": {},
   "outputs": [],
   "source": [
    "import json\n",
    "from typing import List, Dict"
   ]
  },
  {
   "cell_type": "code",
   "execution_count": 3,
   "metadata": {},
   "outputs": [],
   "source": [
    "from src.settings import TrainerConfig, SubjectConfig, FeatureConfig, ResultConfig\n",
    "from src.trainer import Trainer\n",
    "from src.config import timescales"
   ]
  },
  {
   "cell_type": "code",
   "execution_count": 4,
   "metadata": {},
   "outputs": [],
   "source": [
    "# logger = logging.getLogger('load_data')\n",
    "# logger.setLevel('INFO')"
   ]
  },
  {
   "cell_type": "code",
   "execution_count": 5,
   "metadata": {},
   "outputs": [],
   "source": [
    "# Params\n",
    "lang_code = \"en\"\n",
    "subject_id = \"COL\"\n",
    "task = \"reading\"\n",
    "\n",
    "use_bert = True"
   ]
  },
  {
   "cell_type": "markdown",
   "metadata": {},
   "source": [
    "# Data"
   ]
  },
  {
   "cell_type": "code",
   "execution_count": 6,
   "metadata": {},
   "outputs": [],
   "source": [
    "# BLING\n",
    "## COL\n",
    "feature_dir = \".temp/feature/joined\"\n",
    "\n",
    "col_en_data = \".temp/fmri/bling/COL/moth_reading_en_COL.hf5\"\n",
    "col_zh_data = \".temp/fmri/bling/COL/moth_reading_zh_COL.hf5\"\n",
    "fmri_data = col_en_data if not lang_code==\"zh\" else col_zh_data"
   ]
  },
  {
   "cell_type": "code",
   "execution_count": 7,
   "metadata": {},
   "outputs": [],
   "source": [
    "lm_feature_path = \".temp/feature/timescales_mBERT_all_en.npz\" if not lang_code==\"zh\" else \".temp/feature/timescales_mBERT_all_zh.npz\"\n",
    "\n",
    "if use_bert:\n",
    "    lm_feature_path = \".temp/feature/timescales_BERT_all_en.npz\"\n",
    "\n",
    "sensory_feature_list = ['numwords', 'numletters', 'moten']\n",
    "\n",
    "joined_feature_list = \"-\".join(sensory_feature_list)\n",
    "\n",
    "sensory_feature_path = f\"Baseline_bling_{task}_{lang_code}_{subject_id}_{joined_feature_list}.npz\" \n",
    "sensory_feature_path = os.path.join(feature_dir, sensory_feature_path)"
   ]
  },
  {
   "cell_type": "markdown",
   "metadata": {},
   "source": [
    "# Config"
   ]
  },
  {
   "cell_type": "code",
   "execution_count": 15,
   "metadata": {},
   "outputs": [],
   "source": [
    "\n",
    "if lang_code == \"zh\":\n",
    "    trim_start = 10\n",
    "    trim_end = 12\n",
    "else:\n",
    "    trim_start=10\n",
    "    trim_end = 10\n",
    "    \n",
    "sub_config = SubjectConfig(\n",
    "    sub_id=subject_id,\n",
    "    sub_fmri_train_test_path = fmri_data,\n",
    "    lang_code=lang_code,\n",
    "    sub_trim_start = trim_start,\n",
    "    sub_trim_end = trim_end\n",
    ")\n",
    "\n"
   ]
  },
  {
   "cell_type": "code",
   "execution_count": 16,
   "metadata": {},
   "outputs": [],
   "source": [
    "trainer_config = TrainerConfig(\n",
    "    backend=\"torch_cuda\",\n",
    "    result_save_dir = \".temp/result/bling\",\n",
    "    result_meta_save_dir = \".temp/result_meta/bling\",\n",
    "    n_targets_batch = 4096,\n",
    "    n_targets_batch_refit = 2048,\n",
    "    n_iter=100)"
   ]
  },
  {
   "cell_type": "code",
   "execution_count": 17,
   "metadata": {},
   "outputs": [],
   "source": [
    "feature_config = FeatureConfig(\n",
    "    lm_feature_type=\"mBERT\",\n",
    "    lm_feature_path=lm_feature_path,\n",
    "    join_sensory_feature_path = sensory_feature_path,\n",
    ")"
   ]
  },
  {
   "cell_type": "code",
   "execution_count": 18,
   "metadata": {},
   "outputs": [],
   "source": [
    "config_dir = \".temp/config/bling\"\n"
   ]
  },
  {
   "cell_type": "code",
   "execution_count": 19,
   "metadata": {},
   "outputs": [],
   "source": [
    "sub_json = os.path.join(config_dir, \"subject\", f\"{subject_id}_{lang_code}.json\")\n",
    "with open(sub_json, \"w\") as f:\n",
    "    json.dump(sub_config.__dict__, f, indent=4)\n",
    "    "
   ]
  },
  {
   "cell_type": "code",
   "execution_count": 20,
   "metadata": {},
   "outputs": [],
   "source": [
    "feature_json = os.path.join(config_dir, \"feature\", f\"mBERT_all_timescale_{lang_code}.json\")\n",
    "\n",
    "if use_bert:\n",
    "    feature_json = os.path.join(config_dir, \"feature\", f\"BERT_all_timescale_{lang_code}.json\")  \n",
    "\n",
    "with open(feature_json, \"w\") as f:\n",
    "    json.dump(feature_config.__dict__, f, indent=4)"
   ]
  },
  {
   "cell_type": "code",
   "execution_count": 21,
   "metadata": {},
   "outputs": [],
   "source": [
    "trainer_json = os.path.join(config_dir, \"train\", f\"trainer_short.json\")\n",
    "with open(trainer_json, \"w\") as f:\n",
    "    json.dump(trainer_config.__dict__, f, indent=4)"
   ]
  },
  {
   "cell_type": "markdown",
   "metadata": {},
   "source": [
    "# Training"
   ]
  },
  {
   "cell_type": "code",
   "execution_count": 15,
   "metadata": {},
   "outputs": [],
   "source": [
    "trainer = Trainer(sub_json, feature_json, trainer_json)"
   ]
  },
  {
   "cell_type": "code",
   "execution_count": 16,
   "metadata": {},
   "outputs": [
    {
     "name": "stdout",
     "output_type": "stream",
     "text": [
      "Fitting model...\n",
      "[........................................] 100% | 432.36 sec | 100 random sampling with cv | \n",
      "training took 443.3334701061249 seconds\n"
     ]
    }
   ],
   "source": [
    "trainer.train()"
   ]
  },
  {
   "cell_type": "code",
   "execution_count": 17,
   "metadata": {},
   "outputs": [
    {
     "name": "stdout",
     "output_type": "stream",
     "text": [
      "refitting...\n",
      "predicting in batches...\n",
      "computing scores...\n"
     ]
    },
    {
     "name": "stderr",
     "output_type": "stream",
     "text": [
      "/mnt/antares_raid/home/bramantyos/miniconda3/envs/vem/lib/python3.10/site-packages/himalaya/scoring.py:169: RuntimeWarning: divide by zero encountered in divide\n",
      "  r2[fsi, :] = ((2 * inter - asst) / sst).sum(0)\n",
      "/mnt/antares_raid/home/bramantyos/miniconda3/envs/vem/lib/python3.10/site-packages/himalaya/scoring.py:169: RuntimeWarning: invalid value encountered in divide\n",
      "  r2[fsi, :] = ((2 * inter - asst) / sst).sum(0)\n",
      "/mnt/antares_raid/home/bramantyos/miniconda3/envs/vem/lib/python3.10/site-packages/himalaya/scoring.py:61: RuntimeWarning: divide by zero encountered in divide\n",
      "  r2 = 1. - error / var\n",
      "/mnt/antares_raid/home/bramantyos/miniconda3/envs/vem/lib/python3.10/site-packages/himalaya/scoring.py:61: RuntimeWarning: invalid value encountered in divide\n",
      "  r2 = 1. - error / var\n"
     ]
    },
    {
     "name": "stdout",
     "output_type": "stream",
     "text": [
      "computing permutation test...\n",
      "computing timescale selectivity...\n",
      "saving stat...\n"
     ]
    },
    {
     "name": "stderr",
     "output_type": "stream",
     "text": [
      "/mnt/antares_raid/home/bramantyos/codes/multilang_timescale/src/utils.py:151: RuntimeWarning: invalid value encountered in divide\n",
      "  normalized_scores = np.nan_to_num(nz_scores / score_sum)\n"
     ]
    }
   ],
   "source": [
    "trainer.refit_and_evaluate()"
   ]
  },
  {
   "cell_type": "markdown",
   "metadata": {},
   "source": [
    "# Misc"
   ]
  },
  {
   "cell_type": "code",
   "execution_count": null,
   "metadata": {},
   "outputs": [],
   "source": [
    "import numpy as np\n"
   ]
  },
  {
   "cell_type": "code",
   "execution_count": null,
   "metadata": {},
   "outputs": [],
   "source": [
    "mbert = np.load(lm_feature_path, allow_pickle=True)"
   ]
  },
  {
   "cell_type": "code",
   "execution_count": null,
   "metadata": {},
   "outputs": [],
   "source": [
    "mbert_train = mbert['train']"
   ]
  },
  {
   "cell_type": "code",
   "execution_count": null,
   "metadata": {},
   "outputs": [],
   "source": [
    "mbert_train = mbert_train.tolist()"
   ]
  },
  {
   "cell_type": "code",
   "execution_count": null,
   "metadata": {},
   "outputs": [],
   "source": [
    "mbert_train['2_4_words'].shape"
   ]
  },
  {
   "cell_type": "code",
   "execution_count": null,
   "metadata": {},
   "outputs": [],
   "source": [
    "from src.config import train_stories, test_stories, train_stories_zh, test_stories_zh\n",
    "from src.utils import load_dict, cook_responses"
   ]
  },
  {
   "cell_type": "code",
   "execution_count": null,
   "metadata": {},
   "outputs": [],
   "source": []
  },
  {
   "cell_type": "code",
   "execution_count": null,
   "metadata": {},
   "outputs": [],
   "source": [
    "data = load_dict(fmri_data)"
   ]
  },
  {
   "cell_type": "code",
   "execution_count": null,
   "metadata": {},
   "outputs": [],
   "source": [
    "train_data, test_data = cook_responses(\n",
    "    data,\n",
    "    # test_runs=test_stories_zh,\n",
    "    # train_runs=train_stories_zh,\n",
    "    test_runs=test_stories,\n",
    "    train_runs=train_stories,\n",
    "    \n",
    "    # trim_start_length=sub_config.sub_trim_start,\n",
    "    # trim_end_length=sub_config.sub_trim_end,\n",
    "    multiseries=\"average_across\",\n",
    ")\n"
   ]
  },
  {
   "cell_type": "code",
   "execution_count": null,
   "metadata": {},
   "outputs": [],
   "source": [
    "train_data = np.nan_to_num(train_data)\n",
    "test_data = np.nan_to_num(test_data[0])"
   ]
  },
  {
   "cell_type": "code",
   "execution_count": null,
   "metadata": {},
   "outputs": [],
   "source": [
    "train_data.shape"
   ]
  },
  {
   "cell_type": "code",
   "execution_count": null,
   "metadata": {},
   "outputs": [],
   "source": []
  }
 ],
 "metadata": {
  "kernelspec": {
   "display_name": "vem",
   "language": "python",
   "name": "python3"
  },
  "language_info": {
   "codemirror_mode": {
    "name": "ipython",
    "version": 3
   },
   "file_extension": ".py",
   "mimetype": "text/x-python",
   "name": "python",
   "nbconvert_exporter": "python",
   "pygments_lexer": "ipython3",
   "version": "3.10.13"
  }
 },
 "nbformat": 4,
 "nbformat_minor": 2
}
