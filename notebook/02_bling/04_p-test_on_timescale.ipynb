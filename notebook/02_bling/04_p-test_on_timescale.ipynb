{
 "cells": [
  {
   "cell_type": "code",
   "execution_count": 42,
   "metadata": {},
   "outputs": [
    {
     "name": "stdout",
     "output_type": "stream",
     "text": [
      "The autoreload extension is already loaded. To reload it, use:\n",
      "  %reload_ext autoreload\n"
     ]
    }
   ],
   "source": [
    "%load_ext autoreload\n",
    "%autoreload 2"
   ]
  },
  {
   "cell_type": "code",
   "execution_count": 43,
   "metadata": {},
   "outputs": [],
   "source": [
    "%reload_ext autoreload"
   ]
  },
  {
   "cell_type": "code",
   "execution_count": 44,
   "metadata": {},
   "outputs": [
    {
     "name": "stdout",
     "output_type": "stream",
     "text": [
      "/mnt/antares_raid/home/bramantyos/codes/multilang_timescale\n"
     ]
    }
   ],
   "source": [
    "import os\n",
    "\n",
    "# move to project root\n",
    "while True:\n",
    "    # get list of directories\n",
    "    dirs = os.listdir()\n",
    "    if \"README.md\" in dirs:\n",
    "        break\n",
    "    else:\n",
    "        os.chdir(\"..\")\n",
    "print(os.getcwd())"
   ]
  },
  {
   "cell_type": "code",
   "execution_count": 45,
   "metadata": {},
   "outputs": [],
   "source": [
    "import numpy as np\n",
    "\n",
    "import cortex\n",
    "\n",
    "import matplotlib.pyplot as plt\n",
    "import seaborn as sns\n",
    "\n",
    "from src.trainer import Trainer\n",
    "from src.settings import ResultSetting\n",
    "\n",
    "from src.utils import put_values_on_mask\n",
    "\n",
    "from src.utils import read_result_meta, get_surface_dict, delete_empty_result\n",
    "from src.plot_utils import (\n",
    "    plot_timescale_flatmap_from_volume,\n",
    "    plot_volume_rgb,\n",
    "    plot_joint_result,\n",
    "    plot_density,\n",
    ")"
   ]
  },
  {
   "cell_type": "code",
   "execution_count": 46,
   "metadata": {},
   "outputs": [],
   "source": [
    "from src.configurations import config_plotting\n",
    "\n",
    "config_plotting(\"paper\")"
   ]
  },
  {
   "cell_type": "code",
   "execution_count": 47,
   "metadata": {},
   "outputs": [],
   "source": [
    "surfaces_json = \".temp/fmri/bling/surfaces.json\"\n",
    "surfaces_dir = \"/mnt/raid/bling/share/pycortex_store\"\n",
    "\n",
    "result_metric = \"r2\"\n",
    "result_meta_dir = \".temp/result_meta/bling\"\n",
    "\n",
    "subjects_ids = ['COL', 'GFW', 'TYE']\n",
    "\n",
    "alpha = 0.05\n",
    "alpha_pred_acc = None"
   ]
  },
  {
   "cell_type": "code",
   "execution_count": 55,
   "metadata": {},
   "outputs": [],
   "source": [
    "timescale_data = {}\n",
    "\n",
    "for subject_id in subjects_ids:\n",
    "    surface_dict = get_surface_dict(subject_id)\n",
    "\n",
    "    subject_file_en = f\".temp/config/bling/subject/{subject_id}_en.json\"\n",
    "    subject_file_zh = f\".temp/config/bling/subject/{subject_id}_zh.json\"\n",
    "\n",
    "    trainer_en_file = (\n",
    "        f\".temp/config/bling/train/stepwise/{subject_id.lower()}_en_timescale.json\"\n",
    "    )\n",
    "    trainer_zh_file = (\n",
    "        f\".temp/config/bling/train/stepwise/{subject_id.lower()}_zh_timescale.json\"\n",
    "    )\n",
    "        \n",
    "    feature_file_en = f\".temp/config/bling/feature/{subject_id}/mBERT_all_untrimmed_timescale_stepwise_en.json\"\n",
    "    feature_file_zh = f\".temp/config/bling/feature/{subject_id}/mBERT_all_untrimmed_timescale_stepwise_zh.json\"\n",
    "\n",
    "    en_meta_df = read_result_meta(\n",
    "        result_meta_dir,\n",
    "        trainer_setting_path=trainer_en_file,\n",
    "        subject_setting_path=subject_file_en,\n",
    "        feature_setting_path=feature_file_en,\n",
    "    )\n",
    "    zh_meta_df = read_result_meta(\n",
    "        result_meta_dir,\n",
    "        trainer_setting_path=trainer_zh_file,\n",
    "        subject_setting_path=subject_file_zh,\n",
    "        feature_setting_path=feature_file_zh,\n",
    "    )\n",
    "\n",
    "    en_config = en_meta_df.iloc[0].to_dict()\n",
    "    zh_config = zh_meta_df.iloc[0].to_dict()\n",
    "\n",
    "    en_stats = np.load(en_config[\"stats_path\"])\n",
    "    zh_stats = np.load(zh_config[\"stats_path\"])\n",
    "    \n",
    "    keyword = f\"test_{result_metric}_selectivity_mask\"\n",
    "    p_val_keyword = f\"test_p_values_{result_metric}_mask\"\n",
    "    \n",
    "    timescale_en, valid_en_timescale_voxel = put_values_on_mask(\n",
    "        en_stats[keyword],\n",
    "        zh_stats[p_val_keyword],\n",
    "        ev_mask=None,\n",
    "        alpha=alpha,\n",
    "        valid_range=(8, 256),\n",
    "    )\n",
    "    \n",
    "    timescale_zh, valid_zh_timescale_voxel = put_values_on_mask(\n",
    "        zh_stats[keyword],\n",
    "        zh_stats[p_val_keyword],\n",
    "        ev_mask=None,\n",
    "        alpha=alpha,\n",
    "        valid_range=(8, 256),\n",
    "    )\n",
    "    \n",
    "    shared_voxel = np.intersect1d(valid_en_timescale_voxel, valid_zh_timescale_voxel)\n",
    "    \n",
    "    # drop nan\n",
    "    timescale_data[subject_id] = {\n",
    "        \"en\": timescale_en[shared_voxel],\n",
    "        \"zh\": timescale_zh[shared_voxel],\n",
    "    }\n",
    "    "
   ]
  },
  {
   "cell_type": "code",
   "execution_count": 56,
   "metadata": {},
   "outputs": [
    {
     "name": "stdout",
     "output_type": "stream",
     "text": [
      "COL KS test p-value: 1.1260632356052097e-18\n",
      "GFW KS test p-value: 3.459127048527685e-32\n",
      "TYE KS test p-value: 1.7281630060117056e-34\n"
     ]
    }
   ],
   "source": [
    "# permutation test to compare the two distributions\n",
    "from scipy.stats import ks_2samp\n",
    "\n",
    "for i, subject_id in enumerate(subjects_ids):\n",
    "    ks_stat, ks_p_val = ks_2samp(\n",
    "        timescale_data[subject_id][\"en\"],\n",
    "        timescale_data[subject_id][\"zh\"],\n",
    "    )\n",
    "    \n",
    "    print(f\"{subject_id} KS test p-value: {ks_p_val}\")"
   ]
  }
 ],
 "metadata": {
  "kernelspec": {
   "display_name": "vem",
   "language": "python",
   "name": "python3"
  },
  "language_info": {
   "codemirror_mode": {
    "name": "ipython",
    "version": 3
   },
   "file_extension": ".py",
   "mimetype": "text/x-python",
   "name": "python",
   "nbconvert_exporter": "python",
   "pygments_lexer": "ipython3",
   "version": "3.10.13"
  }
 },
 "nbformat": 4,
 "nbformat_minor": 2
}
