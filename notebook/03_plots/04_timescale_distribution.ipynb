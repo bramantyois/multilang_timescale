{
 "cells": [
  {
   "cell_type": "code",
   "execution_count": null,
   "metadata": {},
   "outputs": [
    {
     "ename": "",
     "evalue": "",
     "output_type": "error",
     "traceback": [
      "\u001b[1;31mFailed to start the Kernel. \n",
      "\u001b[1;31mUnable to start Kernel 'vem (Python 3.10.13)' due to a timeout waiting for the ports to get used. \n",
      "\u001b[1;31mView Jupyter <a href='command:jupyter.viewOutput'>log</a> for further details."
     ]
    }
   ],
   "source": [
    "%load_ext autoreload\n",
    "%autoreload 2"
   ]
  },
  {
   "cell_type": "code",
   "execution_count": null,
   "metadata": {},
   "outputs": [
    {
     "ename": "",
     "evalue": "",
     "output_type": "error",
     "traceback": [
      "\u001b[1;31mFailed to start the Kernel. \n",
      "\u001b[1;31mUnable to start Kernel 'vem (Python 3.10.13)' due to a timeout waiting for the ports to get used. \n",
      "\u001b[1;31mView Jupyter <a href='command:jupyter.viewOutput'>log</a> for further details."
     ]
    }
   ],
   "source": [
    "%reload_ext autoreload"
   ]
  },
  {
   "cell_type": "code",
   "execution_count": null,
   "metadata": {},
   "outputs": [
    {
     "ename": "",
     "evalue": "",
     "output_type": "error",
     "traceback": [
      "\u001b[1;31mFailed to start the Kernel. \n",
      "\u001b[1;31mUnable to start Kernel 'vem (Python 3.10.13)' due to a timeout waiting for the ports to get used. \n",
      "\u001b[1;31mView Jupyter <a href='command:jupyter.viewOutput'>log</a> for further details."
     ]
    }
   ],
   "source": [
    "import os\n",
    "\n",
    "# move to project root\n",
    "while True:\n",
    "    # get list of directories\n",
    "    dirs = os.listdir()\n",
    "    if \"README.md\" in dirs:\n",
    "        break\n",
    "    else:\n",
    "        os.chdir(\"..\")\n",
    "print(os.getcwd())"
   ]
  },
  {
   "cell_type": "code",
   "execution_count": null,
   "metadata": {},
   "outputs": [
    {
     "ename": "",
     "evalue": "",
     "output_type": "error",
     "traceback": [
      "\u001b[1;31mFailed to start the Kernel. \n",
      "\u001b[1;31mUnable to start Kernel 'vem (Python 3.10.13)' due to a timeout waiting for the ports to get used. \n",
      "\u001b[1;31mView Jupyter <a href='command:jupyter.viewOutput'>log</a> for further details."
     ]
    }
   ],
   "source": [
    "import json\n",
    "\n",
    "from typing import Dict, Literal\n",
    "\n",
    "import numpy as np\n",
    "\n",
    "from sklearn.metrics.pairwise import cosine_similarity\n",
    "\n",
    "import matplotlib.pyplot as plt\n",
    "from matplotlib.colors import ListedColormap\n",
    "\n",
    "import seaborn as sns\n",
    "\n",
    "import cortex\n",
    "\n",
    "from src.settings import TrainerSetting\n",
    "\n",
    "from src.utils.utils import get_surface_dict, put_values_on_mask\n",
    "from src.utils.meta import read_result_meta\n",
    "\n",
    "from src.utils.plot import (\n",
    "    config_plotting,\n",
    "    figsize_dict,\n",
    "    get_timescale_scalar_mappable,\n",
    "    plot_timescale_selectivity,\n",
    "    plot_timescale_flatmap_from_volume\n",
    ")\n",
    "from src.utils.weight import process_primal_weight"
   ]
  },
  {
   "cell_type": "code",
   "execution_count": null,
   "metadata": {},
   "outputs": [
    {
     "ename": "",
     "evalue": "",
     "output_type": "error",
     "traceback": [
      "\u001b[1;31mFailed to start the Kernel. \n",
      "\u001b[1;31mUnable to start Kernel 'vem (Python 3.10.13)' due to a timeout waiting for the ports to get used. \n",
      "\u001b[1;31mView Jupyter <a href='command:jupyter.viewOutput'>log</a> for further details."
     ]
    }
   ],
   "source": [
    "surfaces_json = \".temp/fmri/bling/surfaces.json\"\n",
    "surfaces_dir = \"/mnt/raid/bling/share/pycortex_store\"\n",
    "\n",
    "result_meta_dir = \".temp/result_meta/bling\"\n",
    "\n",
    "result_metric = \"r2\"\n",
    "\n",
    "alpha = 0.05\n",
    "\n",
    "plotting_context='paper'\n",
    "\n",
    "analysis_name = \"timescale_selectivity\"\n",
    "\n",
    "figsize_type = 'half'\n",
    "\n",
    "is_log = False\n",
    "is_symmetric = False\n",
    "is_alpha_mask = False\n",
    "\n",
    "diff_max_val = 128"
   ]
  },
  {
   "cell_type": "code",
   "execution_count": null,
   "metadata": {},
   "outputs": [
    {
     "ename": "",
     "evalue": "",
     "output_type": "error",
     "traceback": [
      "\u001b[1;31mFailed to start the Kernel. \n",
      "\u001b[1;31mUnable to start Kernel 'vem (Python 3.10.13)' due to a timeout waiting for the ports to get used. \n",
      "\u001b[1;31mView Jupyter <a href='command:jupyter.viewOutput'>log</a> for further details."
     ]
    }
   ],
   "source": [
    "subject_ids = [\"COL\", \"GFW\", \"TYE\"]\n",
    "\n",
    "config_plotting(context=plotting_context)\n",
    "\n",
    "figsize = figsize_dict[figsize_type]"
   ]
  },
  {
   "cell_type": "code",
   "execution_count": null,
   "metadata": {},
   "outputs": [
    {
     "ename": "",
     "evalue": "",
     "output_type": "error",
     "traceback": [
      "\u001b[1;31mFailed to start the Kernel. \n",
      "\u001b[1;31mUnable to start Kernel 'vem (Python 3.10.13)' due to a timeout waiting for the ports to get used. \n",
      "\u001b[1;31mView Jupyter <a href='command:jupyter.viewOutput'>log</a> for further details."
     ]
    }
   ],
   "source": [
    "def get_stats(subject_id: str):\n",
    "    en_feature_config = f\".temp/config/bling/feature/{subject_id}/mBERT_all_untrimmed_timescale_stepwise_en.json\"\n",
    "    zh_feature_config = f\".temp/config/bling/feature/{subject_id}/mBERT_all_untrimmed_timescale_stepwise_zh.json\"\n",
    "    \n",
    "    en_trainer_config = f\".temp/config/bling/train/stepwise/{subject_id.lower()}_en_timescale.json\"\n",
    "    zh_trainer_config = f\".temp/config/bling/train/stepwise/{subject_id.lower()}_zh_timescale.json\"\n",
    "\n",
    "    en_subject_config = f\".temp/config/bling/subject/{subject_id}_en.json\"\n",
    "    zh_subject_config = f\".temp/config/bling/subject/{subject_id}_zh.json\"  \n",
    "\n",
    "    en_meta_df = read_result_meta(result_meta_dir,\n",
    "                                    trainer_setting_path=en_trainer_config,\n",
    "                                    subject_setting_path=en_subject_config,\n",
    "                                    feature_setting_path=en_feature_config,)\n",
    "\n",
    "    zh_meta_df = read_result_meta(result_meta_dir,\n",
    "                                    trainer_setting_path=zh_trainer_config,\n",
    "                                    subject_setting_path=zh_subject_config,\n",
    "                                    feature_setting_path=zh_feature_config,)\n",
    "    \n",
    "    \n",
    "    en_config = en_meta_df.iloc[0].to_dict()\n",
    "    zh_config = zh_meta_df.iloc[0].to_dict()\n",
    "    \n",
    "    # loading stats\n",
    "    en_stat = en_config[\"stats_path\"]\n",
    "    en_stat = np.load(en_stat)\n",
    "\n",
    "    zh_stat = zh_config[\"stats_path\"]\n",
    "    zh_stat = np.load(zh_stat)\n",
    "    \n",
    "    keyword = f\"test_{result_metric}_selectivity_mask\"\n",
    "    p_val_keyword = f\"test_p_values_{result_metric}_mask\"\n",
    "\n",
    "    # en_timescale = get_valid_result(en_stat, keyword, metric=result_metric, alpha=alpha)\n",
    "    # zh_timescale = get_valid_result(zh_stat, keyword, metric=result_metric, alpha=alpha)\n",
    "    \n",
    "    en_timescale,_ = put_values_on_mask(\n",
    "        en_stat[keyword], en_stat[p_val_keyword], alpha=alpha,\n",
    "    )\n",
    "    \n",
    "    zh_timescale,_ = put_values_on_mask(\n",
    "        zh_stat[keyword], zh_stat[p_val_keyword], alpha=alpha,\n",
    "    )\n",
    "    \n",
    "    diff_timescale = en_timescale - zh_timescale    \n",
    "    \n",
    "    keyword = f\"test_joint_{result_metric}_score_mask\"\n",
    "    \n",
    "    en_score, _ = put_values_on_mask(\n",
    "        en_stat[keyword], en_stat[p_val_keyword], alpha=alpha, valid_range=(0,1),\n",
    "    )\n",
    "    \n",
    "    zh_score,_ = put_values_on_mask(\n",
    "        zh_stat[keyword], zh_stat[p_val_keyword], alpha=alpha, valid_range=(0,1),\n",
    "    )\n",
    "    \n",
    "    if result_metric == \"r2\":\n",
    "        en_score = np.maximum(0, np.sqrt(en_score))\n",
    "        zh_score = np.maximum(0, np.sqrt(zh_score))\n",
    "    \n",
    "\n",
    "    return {\n",
    "        'timescale': {\n",
    "            'en': en_timescale,\n",
    "            'zh': zh_timescale,\n",
    "            'diff': diff_timescale,\n",
    "            },\n",
    "        'score': {\n",
    "            'en': en_score,\n",
    "            'zh': zh_score,\n",
    "            },\n",
    "    }"
   ]
  },
  {
   "cell_type": "code",
   "execution_count": null,
   "metadata": {},
   "outputs": [
    {
     "ename": "",
     "evalue": "",
     "output_type": "error",
     "traceback": [
      "\u001b[1;31mFailed to start the Kernel. \n",
      "\u001b[1;31mUnable to start Kernel 'vem (Python 3.10.13)' due to a timeout waiting for the ports to get used. \n",
      "\u001b[1;31mView Jupyter <a href='command:jupyter.viewOutput'>log</a> for further details."
     ]
    }
   ],
   "source": [
    "stats = {}\n",
    "\n",
    "for id in subject_ids:\n",
    "    stats[id] = get_stats(id)"
   ]
  },
  {
   "cell_type": "code",
   "execution_count": null,
   "metadata": {},
   "outputs": [
    {
     "ename": "",
     "evalue": "",
     "output_type": "error",
     "traceback": [
      "\u001b[1;31mFailed to start the Kernel. \n",
      "\u001b[1;31mUnable to start Kernel 'vem (Python 3.10.13)' due to a timeout waiting for the ports to get used. \n",
      "\u001b[1;31mView Jupyter <a href='command:jupyter.viewOutput'>log</a> for further details."
     ]
    }
   ],
   "source": [
    "def plot_density(\n",
    "    stats: Dict,\n",
    "    result_metric: Literal[\"r\", \"r2\"] = \"r2\",\n",
    "    subject_id=\"COL\",\n",
    "    pred_score_filter: float = 0.0,\n",
    "    top_score_percentage_filter: float = 0.0,\n",
    "    figsize_type: Literal[\"half\", \"full\"] = \"half\",\n",
    "    is_histogram: bool = False,\n",
    "    axs=None,\n",
    "    set_lim: bool = True,\n",
    "    print_x_label: bool = True,\n",
    "):\n",
    "    if axs is None:\n",
    "        fig, axs = plt.subplots(1, 2, figsize=figsize_dict[figsize_type], sharey=True)\n",
    "    \n",
    "    result_type = \"timescale\"\n",
    "    \n",
    "    en_stat = stats[subject_id][result_type][\"en\"]\n",
    "    zh_stat = stats[subject_id][result_type][\"zh\"]\n",
    "    \n",
    "    en_pred_mask = stats[subject_id][\"score\"][\"en\"] > pred_score_filter\n",
    "    zh_pred_mask = stats[subject_id][\"score\"][\"zh\"] > pred_score_filter\n",
    "    \n",
    "    # compute top score mask\n",
    "    non_nan_score_en = stats[subject_id][\"score\"][\"en\"][~np.isnan(stats[subject_id][\"score\"][\"en\"])]\n",
    "    non_nan_score_zh = stats[subject_id][\"score\"][\"zh\"][~np.isnan(stats[subject_id][\"score\"][\"zh\"])]\n",
    "    \n",
    "    en_quantile = np.quantile(non_nan_score_en, top_score_percentage_filter)\n",
    "    zh_quantile = np.quantile(non_nan_score_zh, top_score_percentage_filter)\n",
    "    \n",
    "    joint_quantile = np.minimum(en_quantile, zh_quantile)\n",
    "    \n",
    "    print(f\"EN Quantile: {en_quantile}\")\n",
    "    print(f\"ZH Quantile: {zh_quantile}\")\n",
    "    print(f\"Joint Quantile: {joint_quantile}\")\n",
    "    \n",
    "    en_top_score_mask = stats[subject_id][\"score\"][\"en\"] > joint_quantile\n",
    "    zh_top_score_mask = stats[subject_id][\"score\"][\"zh\"] > joint_quantile\n",
    "    \n",
    "    joint_mask = en_pred_mask & zh_pred_mask & en_top_score_mask & zh_top_score_mask\n",
    "    \n",
    "    en_stat = en_stat[joint_mask]\n",
    "    zh_stat = zh_stat[joint_mask]\n",
    "    \n",
    "    diff = en_stat - zh_stat\n",
    "    \n",
    "    #axs = axs.flatten() \n",
    "    \n",
    "    # # plot density of both en_stat and zh_stat in one plot\n",
    "    if is_histogram:\n",
    "        sns.histplot(en_stat, color=\"blue\", label=\"EN\", ax=axs[0], stat=\"density\", kde=True, binrange=(8, 256), bins=16)\n",
    "        sns.histplot(zh_stat, color=\"red\", label=\"ZH\", ax=axs[0], stat=\"density\", kde=True, binrange=(8, 256), bins=16)\n",
    "        sns.histplot(diff, color=\"green\", label=\"EN - ZH\", ax=axs[1], stat=\"density\", kde=True, binrange=(-128, 128), bins=16)\n",
    "    else:    \n",
    "        sns.kdeplot(en_stat, color=\"blue\", label=\"EN\", fill=True, ax=axs[0])\n",
    "        sns.kdeplot(zh_stat, color=\"red\", label=\"ZH\", fill=True, ax=axs[0])\n",
    "        sns.kdeplot(diff, color=\"green\", label=\"EN - ZH\", fill=True, ax=axs[1])\n",
    "\n",
    "    if print_x_label:\n",
    "        axs[0].set_xlabel(f\"Timescale Selectivity\")\n",
    "        axs[1].set_xlabel(f\"Timescale Selectivity Difference\")\n",
    "    \n",
    "    # remove ylable for the right plot\n",
    "    axs[1].set_ylabel(\"\")\n",
    "\n",
    "    if set_lim:\n",
    "        axs[0].set_xlim(0, 256)\n",
    "        axs[1].set_xlim(-128, 128)\n"
   ]
  },
  {
   "cell_type": "code",
   "execution_count": null,
   "metadata": {},
   "outputs": [
    {
     "ename": "",
     "evalue": "",
     "output_type": "error",
     "traceback": [
      "\u001b[1;31mFailed to start the Kernel. \n",
      "\u001b[1;31mUnable to start Kernel 'vem (Python 3.10.13)' due to a timeout waiting for the ports to get used. \n",
      "\u001b[1;31mView Jupyter <a href='command:jupyter.viewOutput'>log</a> for further details."
     ]
    }
   ],
   "source": [
    "import matplotlib.ticker as ticker\n",
    "import matplotlib.patches as mpatches\n",
    "\n",
    "\n",
    "fig = plt.figure(figsize=(12,4))\n",
    "gs = fig.add_gridspec(2, 4)\n",
    "\n",
    "# two the big one for COL\n",
    "ax_col_1 = fig.add_subplot(gs[:, 0])\n",
    "ax_col_2 = fig.add_subplot(gs[:, 1], sharey=ax_col_1)\n",
    "\n",
    "ax_gfw_1 = fig.add_subplot(gs[0, 2], sharex=ax_col_1, sharey=ax_col_1)\n",
    "ax_gfw_2 = fig.add_subplot(gs[0, 3], sharex=ax_col_2, sharey=ax_col_1)\n",
    "\n",
    "ax_tye_1 = fig.add_subplot(gs[1, 2], sharex=ax_col_1, sharey=ax_col_1)\n",
    "ax_tye_2 = fig.add_subplot(gs[1, 3], sharex=ax_col_2, sharey=ax_col_1,)   \n",
    "\n",
    "for ax in [ax_gfw_1, ax_gfw_2, ax_tye_1, ax_tye_2]:\n",
    "    ax.yaxis.set_major_locator(ticker.MaxNLocator(4))\n",
    "\n",
    "\n",
    "fig.text(0.0375, 0.95, \"COL\", ha=\"center\", va=\"center\", fontsize=12, transform=fig.transFigure, weight=\"bold\")\n",
    "fig.text(0.5375, 0.95, \"GFW\", ha=\"center\", va=\"center\", fontsize=12, transform=fig.transFigure, weight=\"bold\")\n",
    "fig.text(0.5375, 0.5, \"TYE\", ha=\"center\", va=\"center\", fontsize=12, transform=fig.transFigure, weight=\"bold\")\n",
    "\n",
    "plot_density(stats, subject_id=\"COL\", top_score_percentage_filter=0.75, axs=[ax_col_1, ax_col_2])\n",
    "\n",
    "red_patch = mpatches.Patch(color='red', label='Chinese', alpha=0.5)\n",
    "blue_patch = mpatches.Patch(color='blue', label='English', alpha=0.5)\n",
    "green_patch = mpatches.Patch(color='green', label='Difference', alpha=0.5)\n",
    "fig.legend(handles=[red_patch, blue_patch, green_patch], loc=\"upper right\", bbox_to_anchor=(0.975, 0.975))\n",
    "\n",
    "# smaller one for TYE and GFW\n",
    "\n",
    "plot_density(stats, subject_id=\"GFW\", top_score_percentage_filter=0.75, axs=[ax_gfw_1, ax_gfw_2], set_lim=False, print_x_label=False)\n",
    "plot_density(stats, subject_id=\"TYE\", top_score_percentage_filter=0.75, axs=[ax_tye_1, ax_tye_2],set_lim=False)\n",
    "\n",
    "plt.tight_layout()\n",
    "\n",
    "save_fn = f\".temp/image/{analysis_name}/density_top25.png\"\n",
    "\n",
    "os.makedirs(os.path.dirname(save_fn), exist_ok=True)\n",
    "\n",
    "plt.savefig(save_fn, dpi=300)\n",
    "\n",
    "\n",
    "plt.show()"
   ]
  },
  {
   "cell_type": "code",
   "execution_count": null,
   "metadata": {},
   "outputs": [
    {
     "ename": "",
     "evalue": "",
     "output_type": "error",
     "traceback": [
      "\u001b[1;31mFailed to start the Kernel. \n",
      "\u001b[1;31mUnable to start Kernel 'vem (Python 3.10.13)' due to a timeout waiting for the ports to get used. \n",
      "\u001b[1;31mView Jupyter <a href='command:jupyter.viewOutput'>log</a> for further details."
     ]
    }
   ],
   "source": [
    "import matplotlib.ticker as ticker\n",
    "import matplotlib.patches as mpatches\n",
    "\n",
    "\n",
    "fig = plt.figure(figsize=(12,4))\n",
    "gs = fig.add_gridspec(2, 4)\n",
    "\n",
    "# two the big one for COL\n",
    "ax_col_1 = fig.add_subplot(gs[:, 0])\n",
    "ax_col_2 = fig.add_subplot(gs[:, 1], sharey=ax_col_1)\n",
    "\n",
    "ax_gfw_1 = fig.add_subplot(gs[0, 2], sharex=ax_col_1, sharey=ax_col_1)\n",
    "ax_gfw_2 = fig.add_subplot(gs[0, 3], sharex=ax_col_2, sharey=ax_col_1)\n",
    "\n",
    "ax_tye_1 = fig.add_subplot(gs[1, 2], sharex=ax_col_1, sharey=ax_col_1)\n",
    "ax_tye_2 = fig.add_subplot(gs[1, 3], sharex=ax_col_2, sharey=ax_col_1,)   \n",
    "\n",
    "for ax in [ax_gfw_1, ax_gfw_2, ax_tye_1, ax_tye_2]:\n",
    "    ax.yaxis.set_major_locator(ticker.MaxNLocator(4))\n",
    "\n",
    "\n",
    "fig.text(0.0375, 0.95, \"COL\", ha=\"center\", va=\"center\", fontsize=12, transform=fig.transFigure, weight=\"bold\")\n",
    "fig.text(0.5375, 0.95, \"GFW\", ha=\"center\", va=\"center\", fontsize=12, transform=fig.transFigure, weight=\"bold\")\n",
    "fig.text(0.5375, 0.5, \"TYE\", ha=\"center\", va=\"center\", fontsize=12, transform=fig.transFigure, weight=\"bold\")\n",
    "\n",
    "plot_density(stats, subject_id=\"COL\", top_score_percentage_filter=0, axs=[ax_col_1, ax_col_2])\n",
    "\n",
    "red_patch = mpatches.Patch(color='red', label='Chinese', alpha=0.5)\n",
    "blue_patch = mpatches.Patch(color='blue', label='English', alpha=0.5)\n",
    "green_patch = mpatches.Patch(color='green', label='Difference', alpha=0.5)\n",
    "fig.legend(handles=[red_patch, blue_patch, green_patch], loc=\"upper right\", bbox_to_anchor=(0.975, 0.975))\n",
    "\n",
    "# smaller one for TYE and GFW\n",
    "\n",
    "plot_density(stats, subject_id=\"GFW\", top_score_percentage_filter=0, axs=[ax_gfw_1, ax_gfw_2], set_lim=False, print_x_label=False)\n",
    "plot_density(stats, subject_id=\"TYE\", top_score_percentage_filter=0, axs=[ax_tye_1, ax_tye_2],set_lim=False)\n",
    "\n",
    "plt.tight_layout()\n",
    "\n",
    "save_fn = f\".temp/image/{analysis_name}/density_all.png\"\n",
    "\n",
    "\n",
    "os.makedirs(os.path.dirname(save_fn), exist_ok=True)\n",
    "\n",
    "plt.savefig(save_fn, dpi=300)\n",
    "\n",
    "plt.show()"
   ]
  },
  {
   "cell_type": "code",
   "execution_count": null,
   "metadata": {},
   "outputs": [
    {
     "ename": "",
     "evalue": "",
     "output_type": "error",
     "traceback": [
      "\u001b[1;31mFailed to start the Kernel. \n",
      "\u001b[1;31mUnable to start Kernel 'vem (Python 3.10.13)' due to a timeout waiting for the ports to get used. \n",
      "\u001b[1;31mView Jupyter <a href='command:jupyter.viewOutput'>log</a> for further details."
     ]
    }
   ],
   "source": []
  }
 ],
 "metadata": {
  "kernelspec": {
   "display_name": "vem",
   "language": "python",
   "name": "python3"
  },
  "language_info": {
   "codemirror_mode": {
    "name": "ipython",
    "version": 3
   },
   "file_extension": ".py",
   "mimetype": "text/x-python",
   "name": "python",
   "nbconvert_exporter": "python",
   "pygments_lexer": "ipython3",
   "version": "3.10.13"
  }
 },
 "nbformat": 4,
 "nbformat_minor": 2
}
