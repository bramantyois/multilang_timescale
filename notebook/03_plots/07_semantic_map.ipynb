{
 "cells": [
  {
   "cell_type": "code",
   "execution_count": 1,
   "metadata": {},
   "outputs": [],
   "source": [
    "%load_ext autoreload\n",
    "%autoreload 2"
   ]
  },
  {
   "cell_type": "code",
   "execution_count": 2,
   "metadata": {},
   "outputs": [],
   "source": [
    "%reload_ext autoreload"
   ]
  },
  {
   "cell_type": "code",
   "execution_count": 3,
   "metadata": {},
   "outputs": [
    {
     "name": "stdout",
     "output_type": "stream",
     "text": [
      "/home/ra/Codes/multilang_timescale\n"
     ]
    }
   ],
   "source": [
    "import os\n",
    "\n",
    "# move to project root\n",
    "while True:\n",
    "    # get list of directories\n",
    "    dirs = os.listdir()\n",
    "    if \"README.md\" in dirs:\n",
    "        break\n",
    "    else:\n",
    "        os.chdir(\"..\")\n",
    "print(os.getcwd())"
   ]
  },
  {
   "cell_type": "code",
   "execution_count": 33,
   "metadata": {},
   "outputs": [],
   "source": [
    "import json \n",
    "\n",
    "import numpy as np \n",
    "\n",
    "import matplotlib.pyplot as plt\n",
    "import seaborn as sns\n",
    "\n",
    "from src.utils.plot import config_plotting, figsize_dict\n",
    "from src.utils.meta import read_result_meta\n",
    "from src.utils.utils import get_valid_voxels\n",
    "from src.utils.weight import process_primal_weight\n",
    "from src.settings import TrainerSetting"
   ]
  },
  {
   "cell_type": "code",
   "execution_count": 6,
   "metadata": {},
   "outputs": [],
   "source": [
    "config_plotting('paper')"
   ]
  },
  {
   "cell_type": "code",
   "execution_count": 28,
   "metadata": {},
   "outputs": [],
   "source": [
    "image_dir = \".temp/image/semantic_cluster/\"\n",
    "\n",
    "result_metric = \"r2\"    \n",
    "result_meta_dir = \".temp/result_meta/bling\"\n",
    "alpha = 0.05"
   ]
  },
  {
   "cell_type": "code",
   "execution_count": 29,
   "metadata": {},
   "outputs": [],
   "source": [
    "subject_ids = ['COL', 'GFW', 'TYE']"
   ]
  },
  {
   "cell_type": "code",
   "execution_count": 22,
   "metadata": {},
   "outputs": [],
   "source": [
    "# load voxel cluster for each subject\n",
    "voxel_clusters = {}\n",
    "for subject_id in subject_ids:\n",
    "    fn = f\".temp/image/semantic_cluster/{subject_id}/cluster_voxels.npz\"\n",
    "    \n",
    "    voxel_cluster = np.load(fn, allow_pickle=True) \n",
    "    \n",
    "    valid_en_clusters = np.where(voxel_cluster['en'] > 0)[0]\n",
    "    voxel_clusters[subject_id]= {\n",
    "        'en': voxel_cluster['en'],\n",
    "        'zh': voxel_cluster['zh'],\n",
    "    }"
   ]
  },
  {
   "cell_type": "code",
   "execution_count": 30,
   "metadata": {},
   "outputs": [],
   "source": [
    "def load_semantic_weight_data(subject_id):\n",
    "    subject_file_en = f\".temp/config/bling/subject/{subject_id}_en.json\"\n",
    "    subject_file_zh = f\".temp/config/bling/subject/{subject_id}_zh.json\"\n",
    "\n",
    "    feature_file_en = f\".temp/config/bling/feature/{subject_id}/fasttext_stepwise_en.json\"\n",
    "    feature_file_zh = f\".temp/config/bling/feature/{subject_id}/fasttext_stepwise_zh.json\"\n",
    "\n",
    "    trainer_en_file = (\n",
    "        f\".temp/config/bling/train/stepwise/{subject_id.lower()}_en-save_primal.json\"\n",
    "    )\n",
    "    trainer_zh_file = (\n",
    "        f\".temp/config/bling/train/stepwise/{subject_id.lower()}_zh-save_primal.json\"\n",
    "    )\n",
    "    # loading semantic vem\n",
    "\n",
    "    en_meta_df = read_result_meta(\n",
    "        result_meta_dir,\n",
    "        trainer_setting_path=trainer_en_file,\n",
    "        subject_setting_path=subject_file_en,\n",
    "        feature_setting_path=feature_file_en,\n",
    "    )\n",
    "    zh_meta_df = read_result_meta(\n",
    "        result_meta_dir,\n",
    "        trainer_setting_path=trainer_zh_file,\n",
    "        subject_setting_path=subject_file_zh,\n",
    "        feature_setting_path=feature_file_zh,\n",
    "    )\n",
    "\n",
    "    # load trainer json file to TrainerSetting\n",
    "    with open(trainer_en_file, \"r\") as f:\n",
    "        trainer_setting_en = TrainerSetting(**json.load(f))\n",
    "        \n",
    "    en_config = en_meta_df.iloc[0].to_dict()\n",
    "    zh_config = zh_meta_df.iloc[0].to_dict()\n",
    "\n",
    "    en_stat = en_config[\"stats_path\"]\n",
    "    en_stat = np.load(en_stat)\n",
    "\n",
    "    zh_stat = zh_config[\"stats_path\"]\n",
    "    zh_stat = np.load(zh_stat)\n",
    "\n",
    "    valid_en_voxel_mask, valid_en_voxel_idx = get_valid_voxels(en_stat, metric=result_metric, alpha=alpha)\n",
    "    valid_zh_voxel_mask, valid_zh_voxel_idx = get_valid_voxels(zh_stat, metric=result_metric, alpha=alpha)\n",
    "\n",
    "    valid_voxel_mask = valid_en_voxel_mask & valid_zh_voxel_mask\n",
    "    valid_voxel_idx = np.intersect1d(valid_en_voxel_idx, valid_zh_voxel_idx)\n",
    "\n",
    "    en_joint_pred_acc = en_stat[f\"test_joint_{result_metric}_score_mask\"]\n",
    "    zh_joint_pred_acc = zh_stat[f\"test_joint_{result_metric}_score_mask\"]\n",
    "\n",
    "    # get sqrt\n",
    "    if result_metric == 'r2':\n",
    "        en_joint_pred_acc = np.sqrt(en_joint_pred_acc)\n",
    "        zh_joint_pred_acc = np.sqrt(zh_joint_pred_acc)\n",
    "\n",
    "    return {\n",
    "        'en': {\n",
    "            'config': en_config,\n",
    "            'stat': en_stat,\n",
    "            'valid_voxel_mask': valid_en_voxel_mask,\n",
    "            'valid_voxel_idx': valid_en_voxel_idx,\n",
    "            'joint_pred_acc': en_joint_pred_acc\n",
    "        },\n",
    "        'zh': {\n",
    "            'config': zh_config,\n",
    "            'stat': zh_stat,\n",
    "            'valid_voxel_mask': valid_zh_voxel_mask,\n",
    "            'valid_voxel_idx': valid_zh_voxel_idx,\n",
    "            'joint_pred_acc': zh_joint_pred_acc\n",
    "        }\n",
    "    }"
   ]
  },
  {
   "cell_type": "code",
   "execution_count": 25,
   "metadata": {},
   "outputs": [],
   "source": [
    "def load_timescale_data(subject_id):\n",
    "  \n",
    "\n",
    "    subject_file_en = f\".temp/config/bling/subject/{subject_id}_en.json\"\n",
    "    subject_file_zh = f\".temp/config/bling/subject/{subject_id}_zh.json\"\n",
    "\n",
    "    trainer_en_file = (\n",
    "        f\".temp/config/bling/train/stepwise/{subject_id.lower()}_en-save_primal.json\"\n",
    "    )\n",
    "    trainer_zh_file = (\n",
    "        f\".temp/config/bling/train/stepwise/{subject_id.lower()}_zh-save_primal.json\"\n",
    "    )\n",
    "\n",
    "    trainer_en_ts_file = (\n",
    "        f\".temp/config/bling/train/stepwise/{subject_id.lower()}_en_timescale.json\"\n",
    "    )\n",
    "\n",
    "    trainer_zh_ts_file = (\n",
    "        f\".temp/config/bling/train/stepwise/{subject_id.lower()}_zh_timescale.json\"\n",
    "    )\n",
    "\n",
    "    feature_file_en_ts = f\".temp/config/bling/feature/{subject_id}/mBERT_all_untrimmed_timescale_stepwise_en.json\"\n",
    "    feature_file_zh_ts = f\".temp/config/bling/feature/{subject_id}/mBERT_all_untrimmed_timescale_stepwise_zh.json\"\n",
    "\n",
    "    # loading timescale vem\n",
    "    en_meta_df = read_result_meta(\n",
    "        result_meta_dir,\n",
    "        trainer_setting_path=trainer_en_ts_file,\n",
    "        subject_setting_path=subject_file_en,\n",
    "        feature_setting_path=feature_file_en_ts,)\n",
    "\n",
    "    zh_meta_df = read_result_meta(\n",
    "        result_meta_dir,\n",
    "        trainer_setting_path=trainer_zh_ts_file,\n",
    "        subject_setting_path=subject_file_zh,\n",
    "        feature_setting_path=feature_file_zh_ts,\n",
    "    )\n",
    "\n",
    "    # load trainer json file to TrainerSetting\n",
    "    with open(trainer_en_file, \"r\") as f:\n",
    "        trainer_setting_en = TrainerSetting(**json.load(f))\n",
    "    en_ts_config = en_meta_df.iloc[0].to_dict()\n",
    "    zh_ts_config = zh_meta_df.iloc[0].to_dict()\n",
    "        \n",
    "    en_ts_stat = en_ts_config[\"stats_path\"]\n",
    "    en_ts_stat = np.load(en_ts_stat)\n",
    "\n",
    "    zh_ts_stat = zh_ts_config[\"stats_path\"]\n",
    "    zh_ts_stat = np.load(zh_ts_stat)\n",
    "\n",
    "    valid_en_ts_voxel_mask, valid_en_ts_voxel_idx = get_valid_voxels(en_ts_stat, metric=result_metric, alpha=alpha)\n",
    "    valid_zh_ts_voxel_mask, valid_zh_ts_voxel_idx = get_valid_voxels(zh_ts_stat, metric=result_metric, alpha=alpha)\n",
    "\n",
    "    valid_ts_voxel_mask = valid_en_ts_voxel_mask & valid_zh_ts_voxel_mask\n",
    "    valid_ts_voxel_idx = np.intersect1d(valid_en_ts_voxel_idx, valid_zh_ts_voxel_idx)\n",
    "\n",
    "    en_timescale = en_ts_stat[f\"test_{result_metric}_selectivity_mask\"]\n",
    "    zh_timescale = zh_ts_stat[f\"test_{result_metric}_selectivity_mask\"]\n",
    "\n",
    "    return {\n",
    "        'en': en_timescale,\n",
    "        'zh': zh_timescale,\n",
    "\n",
    "        'valid_mask': valid_ts_voxel_mask,\n",
    "        'valid_idx': valid_ts_voxel_idx\n",
    "    }"
   ]
  },
  {
   "cell_type": "code",
   "execution_count": 36,
   "metadata": {},
   "outputs": [],
   "source": [
    "def get_primal_weight(semantic_weight_data):\n",
    "    en_primal_weight = semantic_weight_data['en']['config']['primal_weights_path']\n",
    "    zh_primal_weight = semantic_weight_data['zh']['config']['primal_weights_path']\n",
    "\n",
    "    en_primal_weight = np.load(en_primal_weight)    \n",
    "    zh_primal_weight = np.load(zh_primal_weight)\n",
    "\n",
    "    en_primal_weight = np.squeeze(en_primal_weight)\n",
    "    zh_primal_weight = np.squeeze(zh_primal_weight)\n",
    "\n",
    "    en_primal_weight = process_primal_weight(en_primal_weight, prediction_score=semantic_weight_data['en']['joint_pred_acc'], normalize=True)\n",
    "    zh_primal_weight = process_primal_weight(zh_primal_weight, prediction_score=semantic_weight_data['zh']['joint_pred_acc'], normalize=True)\n",
    "\n",
    "    return {\n",
    "        'en': en_primal_weight,\n",
    "        'zh': zh_primal_weight\n",
    "    } "
   ]
  },
  {
   "cell_type": "code",
   "execution_count": 37,
   "metadata": {},
   "outputs": [],
   "source": [
    "timescales = {}\n",
    "for subject_id in subject_ids:\n",
    "    timescales[subject_id] = load_timescale_data(subject_id)"
   ]
  },
  {
   "cell_type": "code",
   "execution_count": 38,
   "metadata": {},
   "outputs": [
    {
     "name": "stderr",
     "output_type": "stream",
     "text": [
      "/tmp/ipykernel_971863/3681603449.py:53: RuntimeWarning: invalid value encountered in sqrt\n",
      "  en_joint_pred_acc = np.sqrt(en_joint_pred_acc)\n",
      "/tmp/ipykernel_971863/3681603449.py:54: RuntimeWarning: invalid value encountered in sqrt\n",
      "  zh_joint_pred_acc = np.sqrt(zh_joint_pred_acc)\n",
      "/tmp/ipykernel_971863/3681603449.py:53: RuntimeWarning: invalid value encountered in sqrt\n",
      "  en_joint_pred_acc = np.sqrt(en_joint_pred_acc)\n",
      "/tmp/ipykernel_971863/3681603449.py:54: RuntimeWarning: invalid value encountered in sqrt\n",
      "  zh_joint_pred_acc = np.sqrt(zh_joint_pred_acc)\n",
      "/tmp/ipykernel_971863/3681603449.py:53: RuntimeWarning: invalid value encountered in sqrt\n",
      "  en_joint_pred_acc = np.sqrt(en_joint_pred_acc)\n",
      "/tmp/ipykernel_971863/3681603449.py:54: RuntimeWarning: invalid value encountered in sqrt\n",
      "  zh_joint_pred_acc = np.sqrt(zh_joint_pred_acc)\n"
     ]
    }
   ],
   "source": [
    "vems = {}\n",
    "for subject_id in subject_ids:\n",
    "    vems[subject_id] = load_semantic_weight_data(subject_id)"
   ]
  },
  {
   "cell_type": "code",
   "execution_count": 39,
   "metadata": {},
   "outputs": [
    {
     "ename": "FileNotFoundError",
     "evalue": "[Errno 2] No such file or directory: '.temp/result/bling/412fb546-2565-4e3c-9d9d-a64afa4a7bc8/primal_coef.npz'",
     "output_type": "error",
     "traceback": [
      "\u001b[0;31m---------------------------------------------------------------------------\u001b[0m",
      "\u001b[0;31mFileNotFoundError\u001b[0m                         Traceback (most recent call last)",
      "Cell \u001b[0;32mIn[39], line 3\u001b[0m\n\u001b[1;32m      1\u001b[0m primal_weights \u001b[38;5;241m=\u001b[39m {}\n\u001b[1;32m      2\u001b[0m \u001b[38;5;28;01mfor\u001b[39;00m subject_id \u001b[38;5;129;01min\u001b[39;00m subject_ids:\n\u001b[0;32m----> 3\u001b[0m     primal_weights[subject_id] \u001b[38;5;241m=\u001b[39m \u001b[43mget_primal_weight\u001b[49m\u001b[43m(\u001b[49m\u001b[43mvems\u001b[49m\u001b[43m[\u001b[49m\u001b[43msubject_id\u001b[49m\u001b[43m]\u001b[49m\u001b[43m)\u001b[49m\n",
      "Cell \u001b[0;32mIn[36], line 5\u001b[0m, in \u001b[0;36mget_primal_weight\u001b[0;34m(semantic_weight_data)\u001b[0m\n\u001b[1;32m      2\u001b[0m en_primal_weight \u001b[38;5;241m=\u001b[39m semantic_weight_data[\u001b[38;5;124m'\u001b[39m\u001b[38;5;124men\u001b[39m\u001b[38;5;124m'\u001b[39m][\u001b[38;5;124m'\u001b[39m\u001b[38;5;124mconfig\u001b[39m\u001b[38;5;124m'\u001b[39m][\u001b[38;5;124m'\u001b[39m\u001b[38;5;124mprimal_weights_path\u001b[39m\u001b[38;5;124m'\u001b[39m]\n\u001b[1;32m      3\u001b[0m zh_primal_weight \u001b[38;5;241m=\u001b[39m semantic_weight_data[\u001b[38;5;124m'\u001b[39m\u001b[38;5;124mzh\u001b[39m\u001b[38;5;124m'\u001b[39m][\u001b[38;5;124m'\u001b[39m\u001b[38;5;124mconfig\u001b[39m\u001b[38;5;124m'\u001b[39m][\u001b[38;5;124m'\u001b[39m\u001b[38;5;124mprimal_weights_path\u001b[39m\u001b[38;5;124m'\u001b[39m]\n\u001b[0;32m----> 5\u001b[0m en_primal_weight \u001b[38;5;241m=\u001b[39m \u001b[43mnp\u001b[49m\u001b[38;5;241;43m.\u001b[39;49m\u001b[43mload\u001b[49m\u001b[43m(\u001b[49m\u001b[43men_primal_weight\u001b[49m\u001b[43m)\u001b[49m    \n\u001b[1;32m      6\u001b[0m zh_primal_weight \u001b[38;5;241m=\u001b[39m np\u001b[38;5;241m.\u001b[39mload(zh_primal_weight)\n\u001b[1;32m      8\u001b[0m en_primal_weight \u001b[38;5;241m=\u001b[39m np\u001b[38;5;241m.\u001b[39msqueeze(en_primal_weight)\n",
      "File \u001b[0;32m~/miniconda3/envs/vem/lib/python3.11/site-packages/numpy/lib/npyio.py:427\u001b[0m, in \u001b[0;36mload\u001b[0;34m(file, mmap_mode, allow_pickle, fix_imports, encoding, max_header_size)\u001b[0m\n\u001b[1;32m    425\u001b[0m     own_fid \u001b[38;5;241m=\u001b[39m \u001b[38;5;28;01mFalse\u001b[39;00m\n\u001b[1;32m    426\u001b[0m \u001b[38;5;28;01melse\u001b[39;00m:\n\u001b[0;32m--> 427\u001b[0m     fid \u001b[38;5;241m=\u001b[39m stack\u001b[38;5;241m.\u001b[39menter_context(\u001b[38;5;28mopen\u001b[39m(os_fspath(file), \u001b[38;5;124m\"\u001b[39m\u001b[38;5;124mrb\u001b[39m\u001b[38;5;124m\"\u001b[39m))\n\u001b[1;32m    428\u001b[0m     own_fid \u001b[38;5;241m=\u001b[39m \u001b[38;5;28;01mTrue\u001b[39;00m\n\u001b[1;32m    430\u001b[0m \u001b[38;5;66;03m# Code to distinguish from NumPy binary files and pickles.\u001b[39;00m\n",
      "\u001b[0;31mFileNotFoundError\u001b[0m: [Errno 2] No such file or directory: '.temp/result/bling/412fb546-2565-4e3c-9d9d-a64afa4a7bc8/primal_coef.npz'"
     ]
    }
   ],
   "source": [
    "primal_weights = {}\n",
    "for subject_id in subject_ids:\n",
    "    primal_weights[subject_id] = get_primal_weight(vems[subject_id])"
   ]
  },
  {
   "cell_type": "code",
   "execution_count": 32,
   "metadata": {},
   "outputs": [],
   "source": [
    "# loading fasttext embeddings\n",
    "\n",
    "en_fasttext = \".temp/misc/word_list/en_fasttext_embeddings.npy\"\n",
    "zh_fasttext = \".temp/misc/word_list/zh_fasttext_embeddings.npy\"\n",
    "\n",
    "en_fasttext = np.load(en_fasttext, allow_pickle=True).tolist()\n",
    "zh_fasttext = np.load(zh_fasttext, allow_pickle=True).tolist()\n",
    "\n",
    "en_words = list(en_fasttext.keys())\n",
    "zh_words = list(zh_fasttext.keys())\n",
    "\n",
    "# get word from en_words and zh_words\n",
    "en_words = np.array(en_words)\n",
    "zh_words = np.array(zh_words)\n",
    "\n",
    "# now get all value from en_fasttext dictionary and project that to pca\n",
    "en_fasttext_values = np.array(list(en_fasttext.values()))\n",
    "zh_fasttext_values = np.array(list(zh_fasttext.values()))\n"
   ]
  },
  {
   "cell_type": "code",
   "execution_count": null,
   "metadata": {},
   "outputs": [],
   "source": []
  }
 ],
 "metadata": {
  "kernelspec": {
   "display_name": "vem",
   "language": "python",
   "name": "python3"
  },
  "language_info": {
   "codemirror_mode": {
    "name": "ipython",
    "version": 3
   },
   "file_extension": ".py",
   "mimetype": "text/x-python",
   "name": "python",
   "nbconvert_exporter": "python",
   "pygments_lexer": "ipython3",
   "version": "3.11.5"
  }
 },
 "nbformat": 4,
 "nbformat_minor": 2
}
